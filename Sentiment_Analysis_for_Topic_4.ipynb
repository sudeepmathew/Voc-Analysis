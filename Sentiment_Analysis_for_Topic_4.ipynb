{
  "nbformat": 4,
  "nbformat_minor": 0,
  "metadata": {
    "colab": {
      "name": "Sentiment Analysis for Topic 4.ipynb",
      "provenance": [],
      "include_colab_link": true
    },
    "kernelspec": {
      "name": "python3",
      "display_name": "Python 3"
    }
  },
  "cells": [
    {
      "cell_type": "markdown",
      "metadata": {
        "id": "view-in-github",
        "colab_type": "text"
      },
      "source": [
        "<a href=\"https://colab.research.google.com/github/sudeepmathew/Voc-Analysis/blob/master/Sentiment_Analysis_for_Topic_4.ipynb\" target=\"_parent\"><img src=\"https://colab.research.google.com/assets/colab-badge.svg\" alt=\"Open In Colab\"/></a>"
      ]
    },
    {
      "cell_type": "markdown",
      "metadata": {
        "id": "D7l-4ss5J9CE",
        "colab_type": "text"
      },
      "source": [
        "# Getting Data"
      ]
    },
    {
      "cell_type": "code",
      "metadata": {
        "id": "1X1DZlbMvoJQ",
        "colab_type": "code",
        "outputId": "e31da767-b041-4c0f-e5d9-95358b7a1234",
        "colab": {
          "base_uri": "https://localhost:8080/",
          "height": 122
        }
      },
      "source": [
        "from google.colab import drive\n",
        "drive.mount('/content/drive')"
      ],
      "execution_count": 0,
      "outputs": [
        {
          "output_type": "stream",
          "text": [
            "Go to this URL in a browser: https://accounts.google.com/o/oauth2/auth?client_id=947318989803-6bn6qk8qdgf4n4g3pfee6491hc0brc4i.apps.googleusercontent.com&redirect_uri=urn%3Aietf%3Awg%3Aoauth%3A2.0%3Aoob&scope=email%20https%3A%2F%2Fwww.googleapis.com%2Fauth%2Fdocs.test%20https%3A%2F%2Fwww.googleapis.com%2Fauth%2Fdrive%20https%3A%2F%2Fwww.googleapis.com%2Fauth%2Fdrive.photos.readonly%20https%3A%2F%2Fwww.googleapis.com%2Fauth%2Fpeopleapi.readonly&response_type=code\n",
            "\n",
            "Enter your authorization code:\n",
            "··········\n",
            "Mounted at /content/drive\n"
          ],
          "name": "stdout"
        }
      ]
    },
    {
      "cell_type": "markdown",
      "metadata": {
        "id": "vvbRWqNBKA1G",
        "colab_type": "text"
      },
      "source": [
        "# Importing Packages"
      ]
    },
    {
      "cell_type": "code",
      "metadata": {
        "id": "zDc71G-qv5NC",
        "colab_type": "code",
        "outputId": "fc80d948-868e-4232-ada9-27cea74b3612",
        "colab": {
          "base_uri": "https://localhost:8080/",
          "height": 153
        }
      },
      "source": [
        "import pandas as pd\n",
        "import nltk\n",
        "from nltk import FreqDist\n",
        "import spacy\n",
        "import matplotlib.pyplot as plt\n",
        "import seaborn as sns\n",
        "%matplotlib inline\n",
        "nltk.download('wordnet') \n",
        "from nltk.stem.porter import PorterStemmer\n",
        "from nltk.stem.wordnet import WordNetLemmatizer\n",
        "lem = WordNetLemmatizer()\n",
        "stem = PorterStemmer()\n",
        "word = \"inversely\"\n",
        "print(\"stemming:\",stem.stem(word))\n",
        "print(\"lemmatization:\", lem.lemmatize(word, \"v\"))\n",
        "\n",
        "# Libraries for text preprocessing\n",
        "import re\n",
        "import nltk\n",
        "nltk.download('stopwords')\n",
        "from nltk.corpus import stopwords\n",
        "from nltk.stem.porter import PorterStemmer\n",
        "from nltk.tokenize import RegexpTokenizer\n",
        "nltk.download('wordnet') \n",
        "from nltk.stem.wordnet import WordNetLemmatizer\n",
        "#import nessassary packages\n",
        "import numpy as np\n",
        "import pandas as pd\n",
        "import matplotlib.pyplot as plt \n",
        "import seaborn as sns\n",
        "import nltk\n",
        "from nltk import FreqDist\n",
        "import spacy"
      ],
      "execution_count": 0,
      "outputs": [
        {
          "output_type": "stream",
          "text": [
            "[nltk_data] Downloading package wordnet to /root/nltk_data...\n",
            "[nltk_data]   Unzipping corpora/wordnet.zip.\n",
            "stemming: invers\n",
            "lemmatization: inversely\n",
            "[nltk_data] Downloading package stopwords to /root/nltk_data...\n",
            "[nltk_data]   Unzipping corpora/stopwords.zip.\n",
            "[nltk_data] Downloading package wordnet to /root/nltk_data...\n",
            "[nltk_data]   Package wordnet is already up-to-date!\n"
          ],
          "name": "stdout"
        }
      ]
    },
    {
      "cell_type": "code",
      "metadata": {
        "id": "3Xw23TtJv8iH",
        "colab_type": "code",
        "colab": {}
      },
      "source": [
        "data_4 = pd.read_csv(\"/content/drive/My Drive/file4.csv\")"
      ],
      "execution_count": 0,
      "outputs": []
    },
    {
      "cell_type": "code",
      "metadata": {
        "id": "DVhNeF4pwZHA",
        "colab_type": "code",
        "outputId": "5ecf11ad-463d-4d3c-ca58-90ce80cba3d9",
        "colab": {
          "base_uri": "https://localhost:8080/",
          "height": 34
        }
      },
      "source": [
        "data_4.shape"
      ],
      "execution_count": 0,
      "outputs": [
        {
          "output_type": "execute_result",
          "data": {
            "text/plain": [
              "(244, 3)"
            ]
          },
          "metadata": {
            "tags": []
          },
          "execution_count": 5
        }
      ]
    },
    {
      "cell_type": "code",
      "metadata": {
        "id": "Eu_2t_rZwdo1",
        "colab_type": "code",
        "outputId": "77570398-24bb-4c40-c6f0-cdea93516fa7",
        "colab": {
          "base_uri": "https://localhost:8080/",
          "height": 204
        }
      },
      "source": [
        "data_4.head()"
      ],
      "execution_count": 0,
      "outputs": [
        {
          "output_type": "execute_result",
          "data": {
            "text/html": [
              "<div>\n",
              "<style scoped>\n",
              "    .dataframe tbody tr th:only-of-type {\n",
              "        vertical-align: middle;\n",
              "    }\n",
              "\n",
              "    .dataframe tbody tr th {\n",
              "        vertical-align: top;\n",
              "    }\n",
              "\n",
              "    .dataframe thead th {\n",
              "        text-align: right;\n",
              "    }\n",
              "</style>\n",
              "<table border=\"1\" class=\"dataframe\">\n",
              "  <thead>\n",
              "    <tr style=\"text-align: right;\">\n",
              "      <th></th>\n",
              "      <th>Unnamed: 0</th>\n",
              "      <th>Reviews</th>\n",
              "      <th>Topic</th>\n",
              "    </tr>\n",
              "  </thead>\n",
              "  <tbody>\n",
              "    <tr>\n",
              "      <th>0</th>\n",
              "      <td>0</td>\n",
              "      <td>blackwasp thanks automobile encyclopedia sendi...</td>\n",
              "      <td>3</td>\n",
              "    </tr>\n",
              "    <tr>\n",
              "      <th>1</th>\n",
              "      <td>3</td>\n",
              "      <td>quickly googled hector baojun chevy captiva tr...</td>\n",
              "      <td>3</td>\n",
              "    </tr>\n",
              "    <tr>\n",
              "      <th>2</th>\n",
              "      <td>4</td>\n",
              "      <td>rovingeye quickly googled hector baojun chevy ...</td>\n",
              "      <td>3</td>\n",
              "    </tr>\n",
              "    <tr>\n",
              "      <th>3</th>\n",
              "      <td>21</td>\n",
              "      <td>carandbike tweet svp panoramic sunroof mg vect...</td>\n",
              "      <td>3</td>\n",
              "    </tr>\n",
              "    <tr>\n",
              "      <th>4</th>\n",
              "      <td>25</td>\n",
              "      <td>like hearing imo mg getting right suv hottest ...</td>\n",
              "      <td>3</td>\n",
              "    </tr>\n",
              "  </tbody>\n",
              "</table>\n",
              "</div>"
            ],
            "text/plain": [
              "   Unnamed: 0                                            Reviews  Topic\n",
              "0           0  blackwasp thanks automobile encyclopedia sendi...      3\n",
              "1           3  quickly googled hector baojun chevy captiva tr...      3\n",
              "2           4  rovingeye quickly googled hector baojun chevy ...      3\n",
              "3          21  carandbike tweet svp panoramic sunroof mg vect...      3\n",
              "4          25  like hearing imo mg getting right suv hottest ...      3"
            ]
          },
          "metadata": {
            "tags": []
          },
          "execution_count": 6
        }
      ]
    },
    {
      "cell_type": "code",
      "metadata": {
        "id": "2m0ghcsSw2jn",
        "colab_type": "code",
        "colab": {}
      },
      "source": [
        "##Creating a list of stop words and adding custom stopwords\n",
        "stop_words = set(stopwords.words(\"english\"))\n",
        "##Creating a list of custom stopwords\n",
        "new_words = [\"using\", \"show\", \"result\", \"large\", \"also\", \"iv\", \"one\", \"two\", \"get\",\"like\",\"think\",\"new\",\"much\",\n",
        "             \"https\", \"previously\", \"shown\",\"quote\",\"originally\",\"posted\",\"post\",\"owner\",\"youtube\",\"www\",\"http\",\"would\"]\n",
        "stop_words = stop_words.union(new_words)"
      ],
      "execution_count": 0,
      "outputs": []
    },
    {
      "cell_type": "markdown",
      "metadata": {
        "id": "Alu_ve2XKH-P",
        "colab_type": "text"
      },
      "source": [
        "# Creating Corpus"
      ]
    },
    {
      "cell_type": "code",
      "metadata": {
        "id": "Lk8Kii66wtT0",
        "colab_type": "code",
        "colab": {}
      },
      "source": [
        "corpus = []\n",
        "for i in range(0, 244):\n",
        "    #Remove punctuations\n",
        "    text = re.sub('[^a-zA-Z]', ' ', data_4['Reviews'][i])\n",
        "    \n",
        "    #Convert to lowercase\n",
        "    #text = text.lower()\n",
        "    \n",
        "    #remove tags\n",
        "    #text=re.sub(\"&lt;/?.*?&gt;\",\" &lt;&gt; \",text)\n",
        "    \n",
        "    # remove special characters and digits\n",
        "    #text=re.sub(\"(\\\\d|\\\\W)+\",\" \",text)\n",
        "    \n",
        "    ##Convert to list from string\n",
        "    text = text.split()\n",
        "    \n",
        "    ##Stemming\n",
        "    #ps=PorterStemmer()\n",
        "    #Lemmatisation\n",
        "    #lem = WordNetLemmatizer()\n",
        "    text = [word for word in text if not word in  \n",
        "            stop_words] \n",
        "    text = \" \".join(text)\n",
        "    corpus.append(text)"
      ],
      "execution_count": 0,
      "outputs": []
    },
    {
      "cell_type": "markdown",
      "metadata": {
        "id": "ZFn2JhLAKUlM",
        "colab_type": "text"
      },
      "source": [
        "# Creating a Bag of Words"
      ]
    },
    {
      "cell_type": "code",
      "metadata": {
        "id": "9DP6yT2XxAkX",
        "colab_type": "code",
        "colab": {}
      },
      "source": [
        "bagofwords = []\n",
        "for i in range (0,244):\n",
        "  words =corpus[i].split()\n",
        "  bagofwords.append(words)"
      ],
      "execution_count": 0,
      "outputs": []
    },
    {
      "cell_type": "code",
      "metadata": {
        "id": "G92PIK4oxHWe",
        "colab_type": "code",
        "outputId": "05614096-4183-4daf-e29e-52b59badb3ca",
        "colab": {
          "base_uri": "https://localhost:8080/",
          "height": 54
        }
      },
      "source": [
        "#printing bag of word of 100th item in the list\n",
        "print(bagofwords[100])"
      ],
      "execution_count": 0,
      "outputs": [
        {
          "output_type": "stream",
          "text": [
            "['nishsingh', 'look', 'mg', 'hector', 'everything', 'aur', 'kya', 'chahiye', 'cynic', 'let', 'believe', 'mg', 'actually', 'good', 'focus', 'thus', 'far', 'seems', 'infotainment', 'decibel', 'level', 'launch', 'peep', 'performance', 'safety', 'handling', 'recall', 'jaspal', 'bhatti', 'episode', 'ulta', 'pulta', 'said', 'masala', 'tikki', 'chhole', 'right', 'matter', 'tikki', 'stale', 'cooked', 'everyone', 'eat', 'seen', 'chinese', 'vehicle', 'outside', 'india', 'seen', 'dangerous', 'even', 'go', 'minor', 'road', 'undulation', 'rather', 'pay', 'premium', 'actual', 'save', 'cost', 'voice', 'driven', 'infotainment', 'system', 'wheel', 'ranted', 'wait', 'tbhp', 'review', 'happily', 'change', 'mind', 'view', 'totally', 'contrary', 'travelwriter']\n"
          ],
          "name": "stdout"
        }
      ]
    },
    {
      "cell_type": "markdown",
      "metadata": {
        "id": "oTrZr3kxKck3",
        "colab_type": "text"
      },
      "source": [
        "# Sentiment Analysis"
      ]
    },
    {
      "cell_type": "code",
      "metadata": {
        "id": "o2wIFR7txMzh",
        "colab_type": "code",
        "outputId": "52554480-4c6f-4363-9ee9-42b7c4e715df",
        "colab": {
          "base_uri": "https://localhost:8080/",
          "height": 71
        }
      },
      "source": [
        "from textblob import TextBlob\n",
        "sentiment_text=[TextBlob(review) for review in corpus]\n",
        "print(sentiment_text[0].polarity)\n",
        "print(sentiment_text[0])"
      ],
      "execution_count": 0,
      "outputs": [
        {
          "output_type": "stream",
          "text": [
            "0.2\n",
            "blackwasp thanks automobile encyclopedia sending image seen quite time city never got chance click picture seems quite imposing though\n"
          ],
          "name": "stdout"
        }
      ]
    },
    {
      "cell_type": "code",
      "metadata": {
        "id": "TcpeakOXxRQM",
        "colab_type": "code",
        "outputId": "4641fe1e-e8e7-4622-bef0-361679065609",
        "colab": {
          "base_uri": "https://localhost:8080/",
          "height": 419
        }
      },
      "source": [
        "sentiments = [[review.sentiment.polarity,str(review)] for review in sentiment_text]\n",
        "sentiment_df = pd.DataFrame(sentiments, columns=['polarity','review'])\n",
        "sentiment_df.sort_values(by='polarity',ascending=False)"
      ],
      "execution_count": 0,
      "outputs": [
        {
          "output_type": "execute_result",
          "data": {
            "text/html": [
              "<div>\n",
              "<style scoped>\n",
              "    .dataframe tbody tr th:only-of-type {\n",
              "        vertical-align: middle;\n",
              "    }\n",
              "\n",
              "    .dataframe tbody tr th {\n",
              "        vertical-align: top;\n",
              "    }\n",
              "\n",
              "    .dataframe thead th {\n",
              "        text-align: right;\n",
              "    }\n",
              "</style>\n",
              "<table border=\"1\" class=\"dataframe\">\n",
              "  <thead>\n",
              "    <tr style=\"text-align: right;\">\n",
              "      <th></th>\n",
              "      <th>polarity</th>\n",
              "      <th>review</th>\n",
              "    </tr>\n",
              "  </thead>\n",
              "  <tbody>\n",
              "    <tr>\n",
              "      <th>3</th>\n",
              "      <td>0.600000</td>\n",
              "      <td>carandbike tweet svp panoramic sunroof mg vect...</td>\n",
              "    </tr>\n",
              "    <tr>\n",
              "      <th>9</th>\n",
              "      <td>0.600000</td>\n",
              "      <td>look nice modded inch forged incubus alloy whe...</td>\n",
              "    </tr>\n",
              "    <tr>\n",
              "      <th>193</th>\n",
              "      <td>0.500000</td>\n",
              "      <td>sure whether alloy wheel thread came instagram...</td>\n",
              "    </tr>\n",
              "    <tr>\n",
              "      <th>199</th>\n",
              "      <td>0.500000</td>\n",
              "      <td>sreejith v kid going gaga panoramic sunroof se...</td>\n",
              "    </tr>\n",
              "    <tr>\n",
              "      <th>121</th>\n",
              "      <td>0.500000</td>\n",
              "      <td>infotainment connectivity better screen infini...</td>\n",
              "    </tr>\n",
              "    <tr>\n",
              "      <th>...</th>\n",
              "      <td>...</td>\n",
              "      <td>...</td>\n",
              "    </tr>\n",
              "    <tr>\n",
              "      <th>188</th>\n",
              "      <td>-0.187500</td>\n",
              "      <td>sreejinair dont go paid review anyone doesnt m...</td>\n",
              "    </tr>\n",
              "    <tr>\n",
              "      <th>33</th>\n",
              "      <td>-0.229167</td>\n",
              "      <td>pulse fear weak sunroof might attract thief st...</td>\n",
              "    </tr>\n",
              "    <tr>\n",
              "      <th>66</th>\n",
              "      <td>-0.289286</td>\n",
              "      <td>ankur fox expressed others thread response lag...</td>\n",
              "    </tr>\n",
              "    <tr>\n",
              "      <th>131</th>\n",
              "      <td>-0.600000</td>\n",
              "      <td>crazy driver</td>\n",
              "    </tr>\n",
              "    <tr>\n",
              "      <th>130</th>\n",
              "      <td>-0.600000</td>\n",
              "      <td>crazy driver</td>\n",
              "    </tr>\n",
              "  </tbody>\n",
              "</table>\n",
              "<p>244 rows × 2 columns</p>\n",
              "</div>"
            ],
            "text/plain": [
              "     polarity                                             review\n",
              "3    0.600000  carandbike tweet svp panoramic sunroof mg vect...\n",
              "9    0.600000  look nice modded inch forged incubus alloy whe...\n",
              "193  0.500000  sure whether alloy wheel thread came instagram...\n",
              "199  0.500000  sreejith v kid going gaga panoramic sunroof se...\n",
              "121  0.500000  infotainment connectivity better screen infini...\n",
              "..        ...                                                ...\n",
              "188 -0.187500  sreejinair dont go paid review anyone doesnt m...\n",
              "33  -0.229167  pulse fear weak sunroof might attract thief st...\n",
              "66  -0.289286  ankur fox expressed others thread response lag...\n",
              "131 -0.600000                                       crazy driver\n",
              "130 -0.600000                                       crazy driver\n",
              "\n",
              "[244 rows x 2 columns]"
            ]
          },
          "metadata": {
            "tags": []
          },
          "execution_count": 16
        }
      ]
    },
    {
      "cell_type": "markdown",
      "metadata": {
        "id": "sLmCMjAcKiOf",
        "colab_type": "text"
      },
      "source": [
        "# Sentiment Distribution for Topic # 4"
      ]
    },
    {
      "cell_type": "code",
      "metadata": {
        "id": "3BfMK8OjxhbM",
        "colab_type": "code",
        "outputId": "5852b4d0-497a-4354-c111-886b93447778",
        "colab": {
          "base_uri": "https://localhost:8080/",
          "height": 607
        }
      },
      "source": [
        "fig,ax = plt.subplots(figsize=(15,10))\n",
        "sentiment_df.hist(bins=[-1,-0.75,-0.5,-0.25,0.25,0.5,0.75,1], ax=ax, color='orange')\n",
        "plt.title('Sentiments Distribution on reviews')\n",
        "plt.show()"
      ],
      "execution_count": 0,
      "outputs": [
        {
          "output_type": "display_data",
          "data": {
            "image/png": "[encoded data removed]",
            "text/plain": [
              "<Figure size 1080x720 with 1 Axes>"
            ]
          },
          "metadata": {
            "tags": []
          }
        }
      ]
    },
    {
      "cell_type": "code",
      "metadata": {
        "id": "nl5WfjlCxqF9",
        "colab_type": "code",
        "colab": {}
      },
      "source": [
        "sentiment_df.to_csv('sent_file_top4_new.csv') "
      ],
      "execution_count": 0,
      "outputs": []
    },
    {
      "cell_type": "code",
      "metadata": {
        "id": "UPg57-ykx2sk",
        "colab_type": "code",
        "colab": {}
      },
      "source": [
        ""
      ],
      "execution_count": 0,
      "outputs": []
    }
  ]
}