{
  "nbformat": 4,
  "nbformat_minor": 0,
  "metadata": {
    "colab": {
      "name": "Sentiment Analysis for topic 5.ipynb",
      "provenance": [],
      "include_colab_link": true
    },
    "kernelspec": {
      "name": "python3",
      "display_name": "Python 3"
    }
  },
  "cells": [
    {
      "cell_type": "markdown",
      "metadata": {
        "id": "view-in-github",
        "colab_type": "text"
      },
      "source": [
        "<a href=\"https://colab.research.google.com/github/sudeepmathew/Voc-Analysis/blob/master/Sentiment_Analysis_for_topic_5.ipynb\" target=\"_parent\"><img src=\"https://colab.research.google.com/assets/colab-badge.svg\" alt=\"Open In Colab\"/></a>"
      ]
    },
    {
      "cell_type": "markdown",
      "metadata": {
        "id": "H9VKh9-8LKua",
        "colab_type": "text"
      },
      "source": [
        "# Getting Data"
      ]
    },
    {
      "cell_type": "code",
      "metadata": {
        "id": "5G2oTYfnyQ4j",
        "colab_type": "code",
        "outputId": "74c460c6-50c6-4995-bcce-ac6a0287d197",
        "colab": {
          "base_uri": "https://localhost:8080/",
          "height": 122
        }
      },
      "source": [
        "from google.colab import drive\n",
        "drive.mount('/content/drive')"
      ],
      "execution_count": 0,
      "outputs": [
        {
          "output_type": "stream",
          "text": [
            "Go to this URL in a browser: https://accounts.google.com/o/oauth2/auth?client_id=947318989803-6bn6qk8qdgf4n4g3pfee6491hc0brc4i.apps.googleusercontent.com&redirect_uri=urn%3Aietf%3Awg%3Aoauth%3A2.0%3Aoob&scope=email%20https%3A%2F%2Fwww.googleapis.com%2Fauth%2Fdocs.test%20https%3A%2F%2Fwww.googleapis.com%2Fauth%2Fdrive%20https%3A%2F%2Fwww.googleapis.com%2Fauth%2Fdrive.photos.readonly%20https%3A%2F%2Fwww.googleapis.com%2Fauth%2Fpeopleapi.readonly&response_type=code\n",
            "\n",
            "Enter your authorization code:\n",
            "··········\n",
            "Mounted at /content/drive\n"
          ],
          "name": "stdout"
        }
      ]
    },
    {
      "cell_type": "markdown",
      "metadata": {
        "id": "w34_CbM9LOg-",
        "colab_type": "text"
      },
      "source": [
        "# Importing Packages"
      ]
    },
    {
      "cell_type": "code",
      "metadata": {
        "id": "lJSDDxQUyoOx",
        "colab_type": "code",
        "outputId": "f8eb468c-1fad-4f4b-e591-065c9ad63dd2",
        "colab": {
          "base_uri": "https://localhost:8080/",
          "height": 153
        }
      },
      "source": [
        "import pandas as pd\n",
        "import nltk\n",
        "from nltk import FreqDist\n",
        "import spacy\n",
        "import matplotlib.pyplot as plt\n",
        "import seaborn as sns\n",
        "%matplotlib inline\n",
        "nltk.download('wordnet') \n",
        "from nltk.stem.porter import PorterStemmer\n",
        "from nltk.stem.wordnet import WordNetLemmatizer\n",
        "lem = WordNetLemmatizer()\n",
        "stem = PorterStemmer()\n",
        "word = \"inversely\"\n",
        "print(\"stemming:\",stem.stem(word))\n",
        "print(\"lemmatization:\", lem.lemmatize(word, \"v\"))\n",
        "\n",
        "# Libraries for text preprocessing\n",
        "import re\n",
        "import nltk\n",
        "nltk.download('stopwords')\n",
        "from nltk.corpus import stopwords\n",
        "from nltk.stem.porter import PorterStemmer\n",
        "from nltk.tokenize import RegexpTokenizer\n",
        "nltk.download('wordnet') \n",
        "from nltk.stem.wordnet import WordNetLemmatizer\n",
        "#import nessassary packages\n",
        "import numpy as np\n",
        "import pandas as pd\n",
        "import matplotlib.pyplot as plt \n",
        "import seaborn as sns\n",
        "import nltk\n",
        "from nltk import FreqDist\n",
        "import spacy"
      ],
      "execution_count": 0,
      "outputs": [
        {
          "output_type": "stream",
          "text": [
            "[nltk_data] Downloading package wordnet to /root/nltk_data...\n",
            "[nltk_data]   Unzipping corpora/wordnet.zip.\n",
            "stemming: invers\n",
            "lemmatization: inversely\n",
            "[nltk_data] Downloading package stopwords to /root/nltk_data...\n",
            "[nltk_data]   Unzipping corpora/stopwords.zip.\n",
            "[nltk_data] Downloading package wordnet to /root/nltk_data...\n",
            "[nltk_data]   Package wordnet is already up-to-date!\n"
          ],
          "name": "stdout"
        }
      ]
    },
    {
      "cell_type": "code",
      "metadata": {
        "id": "s09ug1TVywsq",
        "colab_type": "code",
        "colab": {}
      },
      "source": [
        "data_5 = pd.read_csv(\"/content/drive/My Drive/file5.csv\")"
      ],
      "execution_count": 0,
      "outputs": []
    },
    {
      "cell_type": "code",
      "metadata": {
        "id": "c0Lrnc6azfKI",
        "colab_type": "code",
        "outputId": "865d2800-42c1-483c-badc-81a5ddeebcc2",
        "colab": {
          "base_uri": "https://localhost:8080/",
          "height": 34
        }
      },
      "source": [
        "data_5.shape"
      ],
      "execution_count": 0,
      "outputs": [
        {
          "output_type": "execute_result",
          "data": {
            "text/plain": [
              "(348, 3)"
            ]
          },
          "metadata": {
            "tags": []
          },
          "execution_count": 4
        }
      ]
    },
    {
      "cell_type": "code",
      "metadata": {
        "id": "phM434P6z02m",
        "colab_type": "code",
        "outputId": "928184a1-26ed-4ba0-80b2-12d45e6a909e",
        "colab": {
          "base_uri": "https://localhost:8080/",
          "height": 204
        }
      },
      "source": [
        "data_5.head()"
      ],
      "execution_count": 0,
      "outputs": [
        {
          "output_type": "execute_result",
          "data": {
            "text/html": [
              "<div>\n",
              "<style scoped>\n",
              "    .dataframe tbody tr th:only-of-type {\n",
              "        vertical-align: middle;\n",
              "    }\n",
              "\n",
              "    .dataframe tbody tr th {\n",
              "        vertical-align: top;\n",
              "    }\n",
              "\n",
              "    .dataframe thead th {\n",
              "        text-align: right;\n",
              "    }\n",
              "</style>\n",
              "<table border=\"1\" class=\"dataframe\">\n",
              "  <thead>\n",
              "    <tr style=\"text-align: right;\">\n",
              "      <th></th>\n",
              "      <th>Unnamed: 0</th>\n",
              "      <th>Reviews</th>\n",
              "      <th>Topic</th>\n",
              "    </tr>\n",
              "  </thead>\n",
              "  <tbody>\n",
              "    <tr>\n",
              "      <th>0</th>\n",
              "      <td>1</td>\n",
              "      <td>happening name car day first harrier hector ha...</td>\n",
              "      <td>4</td>\n",
              "    </tr>\n",
              "    <tr>\n",
              "      <th>1</th>\n",
              "      <td>14</td>\n",
              "      <td>vid happening name car day first harrier hecto...</td>\n",
              "      <td>4</td>\n",
              "    </tr>\n",
              "    <tr>\n",
              "      <th>2</th>\n",
              "      <td>17</td>\n",
              "      <td>thats good move people subscribe month like buy</td>\n",
              "      <td>4</td>\n",
              "    </tr>\n",
              "    <tr>\n",
              "      <th>3</th>\n",
              "      <td>38</td>\n",
              "      <td>mg manages despatch hector july compass unit c...</td>\n",
              "      <td>4</td>\n",
              "    </tr>\n",
              "    <tr>\n",
              "      <th>4</th>\n",
              "      <td>43</td>\n",
              "      <td>thank giving detailed response osh honda city ...</td>\n",
              "      <td>4</td>\n",
              "    </tr>\n",
              "  </tbody>\n",
              "</table>\n",
              "</div>"
            ],
            "text/plain": [
              "   Unnamed: 0                                            Reviews  Topic\n",
              "0           1  happening name car day first harrier hector ha...      4\n",
              "1          14  vid happening name car day first harrier hecto...      4\n",
              "2          17    thats good move people subscribe month like buy      4\n",
              "3          38  mg manages despatch hector july compass unit c...      4\n",
              "4          43  thank giving detailed response osh honda city ...      4"
            ]
          },
          "metadata": {
            "tags": []
          },
          "execution_count": 5
        }
      ]
    },
    {
      "cell_type": "code",
      "metadata": {
        "id": "0ce4rCFUz7ku",
        "colab_type": "code",
        "colab": {}
      },
      "source": [
        "##Creating a list of stop words and adding custom stopwords\n",
        "stop_words = set(stopwords.words(\"english\"))\n",
        "##Creating a list of custom stopwords\n",
        "new_words = [\"using\", \"show\", \"result\", \"large\", \"also\", \"iv\", \"one\", \"two\", \"get\",\"like\",\"think\",\"new\",\"much\",\n",
        "             \"https\", \"previously\", \"shown\",\"quote\",\"originally\",\"posted\",\"post\",\"owner\",\"youtube\",\"www\",\"http\",\"would\"]\n",
        "stop_words = stop_words.union(new_words)"
      ],
      "execution_count": 0,
      "outputs": []
    },
    {
      "cell_type": "markdown",
      "metadata": {
        "id": "pooFVyZBLawF",
        "colab_type": "text"
      },
      "source": [
        "# Creating a Corpus"
      ]
    },
    {
      "cell_type": "code",
      "metadata": {
        "id": "dOO5uiRm0Jrs",
        "colab_type": "code",
        "colab": {}
      },
      "source": [
        "corpus = []\n",
        "for i in range(0, 348):\n",
        "    #Remove punctuations\n",
        "    text = re.sub('[^a-zA-Z]', ' ', data_5['Reviews'][i])\n",
        "    \n",
        "    #Convert to lowercase\n",
        "    #text = text.lower()\n",
        "    \n",
        "    #remove tags\n",
        "    #text=re.sub(\"&lt;/?.*?&gt;\",\" &lt;&gt; \",text)\n",
        "    \n",
        "    # remove special characters and digits\n",
        "    #text=re.sub(\"(\\\\d|\\\\W)+\",\" \",text)\n",
        "    \n",
        "    ##Convert to list from string\n",
        "    text = text.split()\n",
        "    \n",
        "    ##Stemming\n",
        "    #ps=PorterStemmer()\n",
        "    #Lemmatisation\n",
        "    #lem = WordNetLemmatizer()\n",
        "    text = [word for word in text if not word in  \n",
        "            stop_words] \n",
        "    text = \" \".join(text)\n",
        "    corpus.append(text)"
      ],
      "execution_count": 0,
      "outputs": []
    },
    {
      "cell_type": "markdown",
      "metadata": {
        "id": "7Q0v3XW0Lgv2",
        "colab_type": "text"
      },
      "source": [
        "# Creating a Bag of Word"
      ]
    },
    {
      "cell_type": "code",
      "metadata": {
        "id": "SKxWWBZz0gTk",
        "colab_type": "code",
        "colab": {}
      },
      "source": [
        "bagofwords = []\n",
        "for i in range (0,348):\n",
        "  words =corpus[i].split()\n",
        "  bagofwords.append(words)"
      ],
      "execution_count": 0,
      "outputs": []
    },
    {
      "cell_type": "code",
      "metadata": {
        "id": "ALzwhB_41ck_",
        "colab_type": "code",
        "outputId": "05a66474-e4fd-4e5d-dff6-092bb2c435ba",
        "colab": {
          "base_uri": "https://localhost:8080/",
          "height": 54
        }
      },
      "source": [
        "#printing bag of word of 100th item in the list\n",
        "print(bagofwords[100])"
      ],
      "execution_count": 0,
      "outputs": [
        {
          "output_type": "stream",
          "text": [
            "['nirmaljusdoit', 'going', 'initial', 'report', 'tata', 'harrier', 'tough', 'time', 'coming', 'month', 'hector', 'better', 'built', 'customer', 'service', 'superior', 'well', 'yet', 'single', 'getting', 'serviced', 'india', 'already', 'started', 'counting', 'positive', 'harrier', 'go', 'damage', 'tata', 'done', 'brand', 'name', 'providing', 'shoddy', 'sale', 'service', 'last', 'decade']\n"
          ],
          "name": "stdout"
        }
      ]
    },
    {
      "cell_type": "markdown",
      "metadata": {
        "id": "BSAEP4qzLqTm",
        "colab_type": "text"
      },
      "source": [
        "# Sentiment Analysis For Topic 5"
      ]
    },
    {
      "cell_type": "code",
      "metadata": {
        "id": "LosXQAhY1i8H",
        "colab_type": "code",
        "outputId": "4db82985-0c3d-41a0-a193-0651d4fddda0",
        "colab": {
          "base_uri": "https://localhost:8080/",
          "height": 71
        }
      },
      "source": [
        "from textblob import TextBlob\n",
        "sentiment_text=[TextBlob(review) for review in corpus]\n",
        "print(sentiment_text[0].polarity)\n",
        "print(sentiment_text[0])"
      ],
      "execution_count": 0,
      "outputs": [
        {
          "output_type": "stream",
          "text": [
            "0.0625\n",
            "happening name car day first harrier hector harrier place hector even mg historically letter name mg india could kept combination go back historically people refer mg mg b ta tc even mg\n"
          ],
          "name": "stdout"
        }
      ]
    },
    {
      "cell_type": "code",
      "metadata": {
        "id": "ZFlLYsRG1rMm",
        "colab_type": "code",
        "outputId": "f2084514-3ba1-44b4-c042-84444dcfcf42",
        "colab": {
          "base_uri": "https://localhost:8080/",
          "height": 419
        }
      },
      "source": [
        "sentiments = [[review.sentiment.polarity,str(review)] for review in sentiment_text]\n",
        "sentiment_df = pd.DataFrame(sentiments, columns=['polarity','review'])\n",
        "sentiment_df.sort_values(by='polarity',ascending=False)"
      ],
      "execution_count": 0,
      "outputs": [
        {
          "output_type": "execute_result",
          "data": {
            "text/html": [
              "<div>\n",
              "<style scoped>\n",
              "    .dataframe tbody tr th:only-of-type {\n",
              "        vertical-align: middle;\n",
              "    }\n",
              "\n",
              "    .dataframe tbody tr th {\n",
              "        vertical-align: top;\n",
              "    }\n",
              "\n",
              "    .dataframe thead th {\n",
              "        text-align: right;\n",
              "    }\n",
              "</style>\n",
              "<table border=\"1\" class=\"dataframe\">\n",
              "  <thead>\n",
              "    <tr style=\"text-align: right;\">\n",
              "      <th></th>\n",
              "      <th>polarity</th>\n",
              "      <th>review</th>\n",
              "    </tr>\n",
              "  </thead>\n",
              "  <tbody>\n",
              "    <tr>\n",
              "      <th>153</th>\n",
              "      <td>0.800000</td>\n",
              "      <td>brochure list proud history reinforces custome...</td>\n",
              "    </tr>\n",
              "    <tr>\n",
              "      <th>12</th>\n",
              "      <td>0.700000</td>\n",
              "      <td>keeping prospective buyer waiting month brand ...</td>\n",
              "    </tr>\n",
              "    <tr>\n",
              "      <th>2</th>\n",
              "      <td>0.700000</td>\n",
              "      <td>thats good move people subscribe month buy</td>\n",
              "    </tr>\n",
              "    <tr>\n",
              "      <th>118</th>\n",
              "      <td>0.700000</td>\n",
              "      <td>superb pricing mg hector come mg shield year u...</td>\n",
              "    </tr>\n",
              "    <tr>\n",
              "      <th>39</th>\n",
              "      <td>0.700000</td>\n",
              "      <td>good petrol engine expect hike k k maruti hyun...</td>\n",
              "    </tr>\n",
              "    <tr>\n",
              "      <th>...</th>\n",
              "      <td>...</td>\n",
              "      <td>...</td>\n",
              "    </tr>\n",
              "    <tr>\n",
              "      <th>323</th>\n",
              "      <td>-0.250000</td>\n",
              "      <td>coolkurt congratulation handling charge disgui...</td>\n",
              "    </tr>\n",
              "    <tr>\n",
              "      <th>74</th>\n",
              "      <td>-0.250000</td>\n",
              "      <td>coolkurt congratulation handling charge disgui...</td>\n",
              "    </tr>\n",
              "    <tr>\n",
              "      <th>102</th>\n",
              "      <td>-0.333333</td>\n",
              "      <td>swiftlife concern people end buying vehicle ch...</td>\n",
              "    </tr>\n",
              "    <tr>\n",
              "      <th>17</th>\n",
              "      <td>-0.400000</td>\n",
              "      <td>mg hector understanding parking vehicle road u...</td>\n",
              "    </tr>\n",
              "    <tr>\n",
              "      <th>266</th>\n",
              "      <td>-0.400000</td>\n",
              "      <td>mg hector understanding parking vehicle road u...</td>\n",
              "    </tr>\n",
              "  </tbody>\n",
              "</table>\n",
              "<p>348 rows × 2 columns</p>\n",
              "</div>"
            ],
            "text/plain": [
              "     polarity                                             review\n",
              "153  0.800000  brochure list proud history reinforces custome...\n",
              "12   0.700000  keeping prospective buyer waiting month brand ...\n",
              "2    0.700000         thats good move people subscribe month buy\n",
              "118  0.700000  superb pricing mg hector come mg shield year u...\n",
              "39   0.700000  good petrol engine expect hike k k maruti hyun...\n",
              "..        ...                                                ...\n",
              "323 -0.250000  coolkurt congratulation handling charge disgui...\n",
              "74  -0.250000  coolkurt congratulation handling charge disgui...\n",
              "102 -0.333333  swiftlife concern people end buying vehicle ch...\n",
              "17  -0.400000  mg hector understanding parking vehicle road u...\n",
              "266 -0.400000  mg hector understanding parking vehicle road u...\n",
              "\n",
              "[348 rows x 2 columns]"
            ]
          },
          "metadata": {
            "tags": []
          },
          "execution_count": 13
        }
      ]
    },
    {
      "cell_type": "markdown",
      "metadata": {
        "id": "K_gDrEEmL7CF",
        "colab_type": "text"
      },
      "source": [
        "# Sentiment Distribution for Topic 5"
      ]
    },
    {
      "cell_type": "code",
      "metadata": {
        "id": "Ce4RtIpV1vZK",
        "colab_type": "code",
        "outputId": "f2e827c2-9163-4b54-8e70-60dacfde5d5e",
        "colab": {
          "base_uri": "https://localhost:8080/",
          "height": 607
        }
      },
      "source": [
        "fig,ax = plt.subplots(figsize=(15,10))\n",
        "sentiment_df.hist(bins=[-1,-0.75,-0.5,-0.25,0.25,0.5,0.75,1], ax=ax, color='orange')\n",
        "plt.title('Sentiments Distribution on reviews')\n",
        "plt.show()"
      ],
      "execution_count": 0,
      "outputs": [
        {
          "output_type": "display_data",
          "data": {
            "image/png": "[encoded data removed]",
            "text/plain": [
              "<Figure size 1080x720 with 1 Axes>"
            ]
          },
          "metadata": {
            "tags": []
          }
        }
      ]
    },
    {
      "cell_type": "code",
      "metadata": {
        "id": "qwFQKsGr2MZO",
        "colab_type": "code",
        "colab": {}
      },
      "source": [
        "sentiment_df.to_csv('sent_file5.csv') "
      ],
      "execution_count": 0,
      "outputs": []
    },
    {
      "cell_type": "code",
      "metadata": {
        "id": "117YteX60khw",
        "colab_type": "code",
        "colab": {}
      },
      "source": [
        ""
      ],
      "execution_count": 0,
      "outputs": []
    }
  ]
}