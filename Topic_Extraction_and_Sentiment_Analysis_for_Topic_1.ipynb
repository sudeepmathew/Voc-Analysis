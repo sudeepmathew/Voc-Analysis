{
  "nbformat": 4,
  "nbformat_minor": 0,
  "metadata": {
    "colab": {
      "name": "Topic Extraction and Sentiment Analysis for Topic # 1",
      "provenance": [],
      "collapsed_sections": [],
      "include_colab_link": true
    },
    "kernelspec": {
      "name": "python3",
      "display_name": "Python 3"
    }
  },
  "cells": [
    {
      "cell_type": "markdown",
      "metadata": {
        "id": "view-in-github",
        "colab_type": "text"
      },
      "source": [
        "<a href=\"https://colab.research.google.com/github/sudeepmathew/Voc-Analysis/blob/master/Topic_Extraction_and_Sentiment_Analysis_for_Topic_1.ipynb\" target=\"_parent\"><img src=\"https://colab.research.google.com/assets/colab-badge.svg\" alt=\"Open In Colab\"/></a>"
      ]
    },
    {
      "cell_type": "markdown",
      "metadata": {
        "id": "M1IxK3JsCJWk",
        "colab_type": "text"
      },
      "source": [
        "## **Getting Data**"
      ]
    },
    {
      "cell_type": "code",
      "metadata": {
        "id": "tlhDfLkHnYsG",
        "colab_type": "code",
        "colab": {}
      },
      "source": [
        "import pandas as pd"
      ],
      "execution_count": 0,
      "outputs": []
    },
    {
      "cell_type": "code",
      "metadata": {
        "id": "mUtmkVxsnhiP",
        "colab_type": "code",
        "outputId": "7ade2ecd-aa08-4632-bde9-d768c1c25295",
        "colab": {
          "base_uri": "https://localhost:8080/",
          "height": 34
        }
      },
      "source": [
        "from google.colab import drive\n",
        "drive.mount('/gdrive')"
      ],
      "execution_count": 0,
      "outputs": [
        {
          "output_type": "stream",
          "text": [
            "Mounted at /gdrive\n"
          ],
          "name": "stdout"
        }
      ]
    },
    {
      "cell_type": "code",
      "metadata": {
        "id": "50aPNM_moS3U",
        "colab_type": "code",
        "colab": {}
      },
      "source": [
        "data = pd.read_csv(\"/gdrive/My Drive/MGHectorComments.csv\")"
      ],
      "execution_count": 0,
      "outputs": []
    },
    {
      "cell_type": "code",
      "metadata": {
        "id": "WPIgnescobWS",
        "colab_type": "code",
        "outputId": "94d4534a-b739-41f8-e373-40fba4d55a47",
        "colab": {
          "base_uri": "https://localhost:8080/",
          "height": 204
        }
      },
      "source": [
        "data.head()"
      ],
      "execution_count": 0,
      "outputs": [
        {
          "output_type": "execute_result",
          "data": {
            "text/html": [
              "<div>\n",
              "<style scoped>\n",
              "    .dataframe tbody tr th:only-of-type {\n",
              "        vertical-align: middle;\n",
              "    }\n",
              "\n",
              "    .dataframe tbody tr th {\n",
              "        vertical-align: top;\n",
              "    }\n",
              "\n",
              "    .dataframe thead th {\n",
              "        text-align: right;\n",
              "    }\n",
              "</style>\n",
              "<table border=\"1\" class=\"dataframe\">\n",
              "  <thead>\n",
              "    <tr style=\"text-align: right;\">\n",
              "      <th></th>\n",
              "      <th>selection1_name</th>\n",
              "    </tr>\n",
              "  </thead>\n",
              "  <tbody>\n",
              "    <tr>\n",
              "      <th>0</th>\n",
              "      <td>Quote:\\nOriginally Posted by blackwasp\\nThanks...</td>\n",
              "    </tr>\n",
              "    <tr>\n",
              "      <th>1</th>\n",
              "      <td>What's happening with the names of cars these ...</td>\n",
              "    </tr>\n",
              "    <tr>\n",
              "      <th>2</th>\n",
              "      <td>Quote:\\nOriginally Posted by blackwasp\\nThanks...</td>\n",
              "    </tr>\n",
              "    <tr>\n",
              "      <th>3</th>\n",
              "      <td>Just quickly Googled about this Hector/Baojun ...</td>\n",
              "    </tr>\n",
              "    <tr>\n",
              "      <th>4</th>\n",
              "      <td>Quote:\\nOriginally Posted by rovingeye\\nJust q...</td>\n",
              "    </tr>\n",
              "  </tbody>\n",
              "</table>\n",
              "</div>"
            ],
            "text/plain": [
              "                                     selection1_name\n",
              "0  Quote:\\nOriginally Posted by blackwasp\\nThanks...\n",
              "1  What's happening with the names of cars these ...\n",
              "2  Quote:\\nOriginally Posted by blackwasp\\nThanks...\n",
              "3  Just quickly Googled about this Hector/Baojun ...\n",
              "4  Quote:\\nOriginally Posted by rovingeye\\nJust q..."
            ]
          },
          "metadata": {
            "tags": []
          },
          "execution_count": 6
        }
      ]
    },
    {
      "cell_type": "markdown",
      "metadata": {
        "id": "dogQcdA3CStd",
        "colab_type": "text"
      },
      "source": [
        "# Importing packages"
      ]
    },
    {
      "cell_type": "code",
      "metadata": {
        "id": "NzNCD85CpPVD",
        "colab_type": "code",
        "outputId": "bbf93c8a-ab96-45cd-9dac-f489952d1495",
        "colab": {
          "base_uri": "https://localhost:8080/",
          "height": 153
        }
      },
      "source": [
        "import pandas as pd\n",
        "import nltk\n",
        "from nltk import FreqDist\n",
        "import spacy\n",
        "import matplotlib.pyplot as plt\n",
        "import seaborn as sns\n",
        "%matplotlib inline\n",
        "nltk.download('wordnet') \n",
        "from nltk.stem.porter import PorterStemmer\n",
        "from nltk.stem.wordnet import WordNetLemmatizer\n",
        "lem = WordNetLemmatizer()\n",
        "stem = PorterStemmer()\n",
        "word = \"inversely\"\n",
        "print(\"stemming:\",stem.stem(word))\n",
        "print(\"lemmatization:\", lem.lemmatize(word, \"v\"))\n",
        "\n",
        "# Libraries for text preprocessing\n",
        "import re\n",
        "import nltk\n",
        "nltk.download('stopwords')\n",
        "from nltk.corpus import stopwords\n",
        "from nltk.stem.porter import PorterStemmer\n",
        "from nltk.tokenize import RegexpTokenizer\n",
        "nltk.download('wordnet') \n",
        "from nltk.stem.wordnet import WordNetLemmatizer\n",
        "#import nessassary packages\n",
        "import numpy as np\n",
        "import pandas as pd\n",
        "import matplotlib.pyplot as plt \n",
        "import seaborn as sns\n",
        "import nltk\n",
        "from nltk import FreqDist\n",
        "import spacy"
      ],
      "execution_count": 0,
      "outputs": [
        {
          "output_type": "stream",
          "text": [
            "[nltk_data] Downloading package wordnet to /root/nltk_data...\n",
            "[nltk_data]   Unzipping corpora/wordnet.zip.\n",
            "stemming: invers\n",
            "lemmatization: inversely\n",
            "[nltk_data] Downloading package stopwords to /root/nltk_data...\n",
            "[nltk_data]   Unzipping corpora/stopwords.zip.\n",
            "[nltk_data] Downloading package wordnet to /root/nltk_data...\n",
            "[nltk_data]   Package wordnet is already up-to-date!\n"
          ],
          "name": "stdout"
        }
      ]
    },
    {
      "cell_type": "code",
      "metadata": {
        "id": "9QkMgWG_p2qt",
        "colab_type": "code",
        "colab": {}
      },
      "source": [
        "\n",
        "#Creating a list of stop words and adding custom stopwords\n",
        "stop_words = set(stopwords.words(\"english\"))\n",
        "##Creating a list of custom stopwords\n",
        "new_words = [\"using\", \"show\", \"result\", \"large\",\"update\",\"asked\",\"car\",\"would\", \"also\", \"iv\", \"one\", \"two\", \"new\", \"previously\", \"shown\",\"quote\",\"originally\",\"posted\",\"post\",\"owner\",\"youtube\",\"www\",\"http\"]\n",
        "stop_words = stop_words.union(new_words)\n"
      ],
      "execution_count": 0,
      "outputs": []
    },
    {
      "cell_type": "markdown",
      "metadata": {
        "id": "pq2GREDaCez_",
        "colab_type": "text"
      },
      "source": [
        "# Creating a Corpus"
      ]
    },
    {
      "cell_type": "code",
      "metadata": {
        "id": "LhESFysPoc6F",
        "colab_type": "code",
        "colab": {}
      },
      "source": [
        "\n",
        "corpus = []\n",
        "for i in range(0,1623):\n",
        "    #Remove punctuations\n",
        "    text = re.sub('[^a-zA-Z]', ' ', data['selection1_name'][i])\n",
        "    \n",
        "    #Convert to lowercase\n",
        "    text = text.lower()\n",
        "    \n",
        "    #remove tags\n",
        "    text=re.sub(\"&lt;/?.*?&gt;\",\" &lt;&gt; \",text)\n",
        "    \n",
        "    # remove special characters and digits\n",
        "    text=re.sub(\"(\\\\d|\\\\W)+\",\" \",text)\n",
        "    \n",
        "    ##Convert to list from string\n",
        "    text = text.split()\n",
        "    \n",
        "    ##Stemming\n",
        "    ps=PorterStemmer()\n",
        "    #Lemmatisation\n",
        "    lem = WordNetLemmatizer()\n",
        "    text = [lem.lemmatize(word) for word in text if not word in  \n",
        "            stop_words] \n",
        "    text = \" \".join(text)\n",
        "    corpus.append(text)"
      ],
      "execution_count": 0,
      "outputs": []
    },
    {
      "cell_type": "code",
      "metadata": {
        "id": "mS6JmDfup5Uj",
        "colab_type": "code",
        "colab": {}
      },
      "source": [
        "df = pd.DataFrame(corpus,columns =['Reviews'])"
      ],
      "execution_count": 0,
      "outputs": []
    },
    {
      "cell_type": "code",
      "metadata": {
        "id": "gcnQ4tg7q-JR",
        "colab_type": "code",
        "outputId": "76e8a9ae-4b76-4adc-8aa3-32e465b333ab",
        "colab": {
          "base_uri": "https://localhost:8080/",
          "height": 204
        }
      },
      "source": [
        "df.head()"
      ],
      "execution_count": 0,
      "outputs": [
        {
          "output_type": "execute_result",
          "data": {
            "text/html": [
              "<div>\n",
              "<style scoped>\n",
              "    .dataframe tbody tr th:only-of-type {\n",
              "        vertical-align: middle;\n",
              "    }\n",
              "\n",
              "    .dataframe tbody tr th {\n",
              "        vertical-align: top;\n",
              "    }\n",
              "\n",
              "    .dataframe thead th {\n",
              "        text-align: right;\n",
              "    }\n",
              "</style>\n",
              "<table border=\"1\" class=\"dataframe\">\n",
              "  <thead>\n",
              "    <tr style=\"text-align: right;\">\n",
              "      <th></th>\n",
              "      <th>Reviews</th>\n",
              "    </tr>\n",
              "  </thead>\n",
              "  <tbody>\n",
              "    <tr>\n",
              "      <th>0</th>\n",
              "      <td>blackwasp thanks automobile encyclopedia sendi...</td>\n",
              "    </tr>\n",
              "    <tr>\n",
              "      <th>1</th>\n",
              "      <td>happening name car day first harrier hector ha...</td>\n",
              "    </tr>\n",
              "    <tr>\n",
              "      <th>2</th>\n",
              "      <td>blackwasp thanks automobile encyclopedia sendi...</td>\n",
              "    </tr>\n",
              "    <tr>\n",
              "      <th>3</th>\n",
              "      <td>quickly googled hector baojun chevy captiva tr...</td>\n",
              "    </tr>\n",
              "    <tr>\n",
              "      <th>4</th>\n",
              "      <td>rovingeye quickly googled hector baojun chevy ...</td>\n",
              "    </tr>\n",
              "  </tbody>\n",
              "</table>\n",
              "</div>"
            ],
            "text/plain": [
              "                                             Reviews\n",
              "0  blackwasp thanks automobile encyclopedia sendi...\n",
              "1  happening name car day first harrier hector ha...\n",
              "2  blackwasp thanks automobile encyclopedia sendi...\n",
              "3  quickly googled hector baojun chevy captiva tr...\n",
              "4  rovingeye quickly googled hector baojun chevy ..."
            ]
          },
          "metadata": {
            "tags": []
          },
          "execution_count": 11
        }
      ]
    },
    {
      "cell_type": "markdown",
      "metadata": {
        "id": "YKzxnvnzEBTE",
        "colab_type": "text"
      },
      "source": [
        "# Count Vectorizer for Topic Modeling"
      ]
    },
    {
      "cell_type": "code",
      "metadata": {
        "id": "hb8_Qhzusc8c",
        "colab_type": "code",
        "colab": {}
      },
      "source": [
        "\n",
        "#importing the count vectorizer \n",
        "from sklearn.feature_extraction.text import CountVectorizer\n"
      ],
      "execution_count": 0,
      "outputs": []
    },
    {
      "cell_type": "code",
      "metadata": {
        "id": "AkgxbL-Ssd2E",
        "colab_type": "code",
        "colab": {}
      },
      "source": [
        "cv = CountVectorizer(max_df=0.95, min_df=2)"
      ],
      "execution_count": 0,
      "outputs": []
    },
    {
      "cell_type": "code",
      "metadata": {
        "id": "nZw9olQTsocb",
        "colab_type": "code",
        "colab": {}
      },
      "source": [
        "dtm = cv.fit_transform(df['Reviews'])"
      ],
      "execution_count": 0,
      "outputs": []
    },
    {
      "cell_type": "markdown",
      "metadata": {
        "id": "yGeaqpGeFK8d",
        "colab_type": "text"
      },
      "source": [
        "# LDA Model for identifying Five topics"
      ]
    },
    {
      "cell_type": "code",
      "metadata": {
        "id": "ae5AufHdsunZ",
        "colab_type": "code",
        "colab": {}
      },
      "source": [
        "from sklearn.decomposition import LatentDirichletAllocation\n",
        "LDA = LatentDirichletAllocation(n_components=5,random_state=42)"
      ],
      "execution_count": 0,
      "outputs": []
    },
    {
      "cell_type": "code",
      "metadata": {
        "id": "iYrpNi9asxZ0",
        "colab_type": "code",
        "outputId": "5f4936bf-60e8-4470-9e0c-50a68a7cc762",
        "colab": {
          "base_uri": "https://localhost:8080/",
          "height": 136
        }
      },
      "source": [
        "LDA.fit(dtm)"
      ],
      "execution_count": 0,
      "outputs": [
        {
          "output_type": "execute_result",
          "data": {
            "text/plain": [
              "LatentDirichletAllocation(batch_size=128, doc_topic_prior=None,\n",
              "                          evaluate_every=-1, learning_decay=0.7,\n",
              "                          learning_method='batch', learning_offset=10.0,\n",
              "                          max_doc_update_iter=100, max_iter=10,\n",
              "                          mean_change_tol=0.001, n_components=5, n_jobs=None,\n",
              "                          perp_tol=0.1, random_state=42, topic_word_prior=None,\n",
              "                          total_samples=1000000.0, verbose=0)"
            ]
          },
          "metadata": {
            "tags": []
          },
          "execution_count": 17
        }
      ]
    },
    {
      "cell_type": "code",
      "metadata": {
        "id": "-ST2TjsMtAe_",
        "colab_type": "code",
        "outputId": "fe73ec64-7f04-43e8-b613-f5116ec23329",
        "colab": {
          "base_uri": "https://localhost:8080/",
          "height": 34
        }
      },
      "source": [
        "len(cv.get_feature_names())"
      ],
      "execution_count": 0,
      "outputs": [
        {
          "output_type": "execute_result",
          "data": {
            "text/plain": [
              "5179"
            ]
          },
          "metadata": {
            "tags": []
          },
          "execution_count": 18
        }
      ]
    },
    {
      "cell_type": "code",
      "metadata": {
        "id": "G_lkpFUWtRyt",
        "colab_type": "code",
        "outputId": "754ca797-e4f0-440a-d686-ee601c01c307",
        "colab": {
          "base_uri": "https://localhost:8080/",
          "height": 34
        }
      },
      "source": [
        "len(LDA.components_[0])"
      ],
      "execution_count": 0,
      "outputs": [
        {
          "output_type": "execute_result",
          "data": {
            "text/plain": [
              "5179"
            ]
          },
          "metadata": {
            "tags": []
          },
          "execution_count": 23
        }
      ]
    },
    {
      "cell_type": "code",
      "metadata": {
        "id": "NP--IKgjtXIf",
        "colab_type": "code",
        "colab": {}
      },
      "source": [
        "first_topic = LDA.components_[0]"
      ],
      "execution_count": 0,
      "outputs": []
    },
    {
      "cell_type": "code",
      "metadata": {
        "id": "EFUjCr1Hte_-",
        "colab_type": "code",
        "outputId": "8c7e5641-8bd2-44c1-caf3-dc03a154690f",
        "colab": {
          "base_uri": "https://localhost:8080/",
          "height": 34
        }
      },
      "source": [
        "#argsort() return the indexes in sorted order from low probability to higher probabilty\n",
        "first_topic.argsort()"
      ],
      "execution_count": 0,
      "outputs": [
        {
          "output_type": "execute_result",
          "data": {
            "text/plain": [
              "array([3577, 2889, 4394, ..., 1312, 4087, 2177])"
            ]
          },
          "metadata": {
            "tags": []
          },
          "execution_count": 25
        }
      ]
    },
    {
      "cell_type": "code",
      "metadata": {
        "id": "w-SuHyZZuDsN",
        "colab_type": "code",
        "colab": {}
      },
      "source": [
        "# Top 10 words for this topic:\n",
        "top_word_indices = first_topic.argsort()[-10:]"
      ],
      "execution_count": 0,
      "outputs": []
    },
    {
      "cell_type": "code",
      "metadata": {
        "id": "_VO5av98uI5Q",
        "colab_type": "code",
        "outputId": "3240e58a-10cf-4961-b125-be6f129e1b8f",
        "colab": {
          "base_uri": "https://localhost:8080/",
          "height": 187
        }
      },
      "source": [
        "#Now we have got index locatio of top ten words. Now we can pull corresponding words to get the topic understanding\n",
        "for index in top_word_indices:\n",
        "    print(cv.get_feature_names()[index])"
      ],
      "execution_count": 0,
      "outputs": [
        {
          "output_type": "stream",
          "text": [
            "price\n",
            "good\n",
            "like\n",
            "dct\n",
            "mg\n",
            "drive\n",
            "petrol\n",
            "diesel\n",
            "seltos\n",
            "hector\n"
          ],
          "name": "stdout"
        }
      ]
    },
    {
      "cell_type": "markdown",
      "metadata": {
        "id": "n2HxoT2RGG2S",
        "colab_type": "text"
      },
      "source": [
        "# Identify Top 10 Words for Five Topics"
      ]
    },
    {
      "cell_type": "code",
      "metadata": {
        "id": "E-vQMn2BuQNy",
        "colab_type": "code",
        "outputId": "ff39ebe6-eb37-489f-d0b4-2ef796fe1d78",
        "colab": {
          "base_uri": "https://localhost:8080/",
          "height": 547
        }
      },
      "source": [
        "for i,topic in enumerate(LDA.components_):\n",
        "    print(f'The top 10 words of topic #{i}')\n",
        "    print([cv.get_feature_names()[index] for index in topic.argsort()[-15:]])\n",
        "    print('\\n')\n",
        "    print('\\n')"
      ],
      "execution_count": 0,
      "outputs": [
        {
          "output_type": "stream",
          "text": [
            "The top 10 words of topic #0\n",
            "['engine', 'road', 'much', 'time', 'well', 'price', 'good', 'like', 'dct', 'mg', 'drive', 'petrol', 'diesel', 'seltos', 'hector']\n",
            "\n",
            "\n",
            "\n",
            "\n",
            "The top 10 words of topic #1\n",
            "['well', 'vehicle', 'friend', 'road', 'issue', 'guy', 'http', 'screen', 'car', 'get', 'like', 'delivery', 'booking', 'hector', 'mg']\n",
            "\n",
            "\n",
            "\n",
            "\n",
            "The top 10 words of topic #2\n",
            "['suv', 'mid', 'time', 'drive', 'traffic', 'even', 'highway', 'experience', 'india', 'city', 'hector', 'km', 'mg', 'mileage', 'kmpl']\n",
            "\n",
            "\n",
            "\n",
            "\n",
            "The top 10 words of topic #3\n",
            "['light', 'panel', 'issue', 'plastic', 'attachment', 'gap', 'people', 'vehicle', 'seat', 'quality', 'like', 'sunroof', 'look', 'hector', 'harrier']\n",
            "\n",
            "\n",
            "\n",
            "\n",
            "The top 10 words of topic #4\n",
            "['petrol', 'india', 'get', 'like', 'engine', 'vehicle', 'year', 'even', 'car', 'price', 'diesel', 'month', 'booking', 'hector', 'mg']\n",
            "\n",
            "\n",
            "\n",
            "\n"
          ],
          "name": "stdout"
        }
      ]
    },
    {
      "cell_type": "code",
      "metadata": {
        "id": "7yDOrEVev9KY",
        "colab_type": "code",
        "colab": {}
      },
      "source": [
        "topic_results = LDA.transform(dtm)"
      ],
      "execution_count": 0,
      "outputs": []
    },
    {
      "cell_type": "code",
      "metadata": {
        "id": "nFFDxYVVv_z4",
        "colab_type": "code",
        "outputId": "7e66ce50-e364-437a-8a41-8cd26ea8c172",
        "colab": {
          "base_uri": "https://localhost:8080/",
          "height": 34
        }
      },
      "source": [
        "topic_results.shape"
      ],
      "execution_count": 0,
      "outputs": [
        {
          "output_type": "execute_result",
          "data": {
            "text/plain": [
              "(1623, 5)"
            ]
          },
          "metadata": {
            "tags": []
          },
          "execution_count": 32
        }
      ]
    },
    {
      "cell_type": "code",
      "metadata": {
        "id": "VLffvlBAwCxN",
        "colab_type": "code",
        "outputId": "95fed691-c41d-4ceb-92d9-996835912fae",
        "colab": {
          "base_uri": "https://localhost:8080/",
          "height": 34
        }
      },
      "source": [
        "topic_results[0]"
      ],
      "execution_count": 0,
      "outputs": [
        {
          "output_type": "execute_result",
          "data": {
            "text/plain": [
              "array([0.01025224, 0.01036484, 0.45355014, 0.51563623, 0.01019655])"
            ]
          },
          "metadata": {
            "tags": []
          },
          "execution_count": 33
        }
      ]
    },
    {
      "cell_type": "code",
      "metadata": {
        "id": "xyQYQI_YwI9V",
        "colab_type": "code",
        "outputId": "957dea9e-5845-47ac-8fbf-fc7e11acc903",
        "colab": {
          "base_uri": "https://localhost:8080/",
          "height": 34
        }
      },
      "source": [
        "topic_results[0].argmax()"
      ],
      "execution_count": 0,
      "outputs": [
        {
          "output_type": "execute_result",
          "data": {
            "text/plain": [
              "3"
            ]
          },
          "metadata": {
            "tags": []
          },
          "execution_count": 34
        }
      ]
    },
    {
      "cell_type": "code",
      "metadata": {
        "id": "wYmClYYewONG",
        "colab_type": "code",
        "colab": {}
      },
      "source": [
        "df['Topic'] = topic_results.argmax(axis=1)"
      ],
      "execution_count": 0,
      "outputs": []
    },
    {
      "cell_type": "markdown",
      "metadata": {
        "id": "DKvPpez4GZRH",
        "colab_type": "text"
      },
      "source": [
        "# Attaching Topic with Review in Data Frame"
      ]
    },
    {
      "cell_type": "code",
      "metadata": {
        "id": "hDl3NgpuwXMe",
        "colab_type": "code",
        "outputId": "1fa6848a-13e5-4e0b-d04b-a262edf10d45",
        "colab": {
          "base_uri": "https://localhost:8080/",
          "height": 359
        }
      },
      "source": [
        "df.head(10)"
      ],
      "execution_count": 0,
      "outputs": [
        {
          "output_type": "execute_result",
          "data": {
            "text/html": [
              "<div>\n",
              "<style scoped>\n",
              "    .dataframe tbody tr th:only-of-type {\n",
              "        vertical-align: middle;\n",
              "    }\n",
              "\n",
              "    .dataframe tbody tr th {\n",
              "        vertical-align: top;\n",
              "    }\n",
              "\n",
              "    .dataframe thead th {\n",
              "        text-align: right;\n",
              "    }\n",
              "</style>\n",
              "<table border=\"1\" class=\"dataframe\">\n",
              "  <thead>\n",
              "    <tr style=\"text-align: right;\">\n",
              "      <th></th>\n",
              "      <th>Reviews</th>\n",
              "      <th>Topic</th>\n",
              "    </tr>\n",
              "  </thead>\n",
              "  <tbody>\n",
              "    <tr>\n",
              "      <th>0</th>\n",
              "      <td>blackwasp thanks automobile encyclopedia sendi...</td>\n",
              "      <td>3</td>\n",
              "    </tr>\n",
              "    <tr>\n",
              "      <th>1</th>\n",
              "      <td>happening name car day first harrier hector ha...</td>\n",
              "      <td>4</td>\n",
              "    </tr>\n",
              "    <tr>\n",
              "      <th>2</th>\n",
              "      <td>blackwasp thanks automobile encyclopedia sendi...</td>\n",
              "      <td>1</td>\n",
              "    </tr>\n",
              "    <tr>\n",
              "      <th>3</th>\n",
              "      <td>quickly googled hector baojun chevy captiva tr...</td>\n",
              "      <td>3</td>\n",
              "    </tr>\n",
              "    <tr>\n",
              "      <th>4</th>\n",
              "      <td>rovingeye quickly googled hector baojun chevy ...</td>\n",
              "      <td>3</td>\n",
              "    </tr>\n",
              "    <tr>\n",
              "      <th>5</th>\n",
              "      <td>capitva indeed rebadged baojun wuling similar ...</td>\n",
              "      <td>2</td>\n",
              "    </tr>\n",
              "    <tr>\n",
              "      <th>6</th>\n",
              "      <td>vipul singh capitva indeed rebadged baojun wul...</td>\n",
              "      <td>2</td>\n",
              "    </tr>\n",
              "    <tr>\n",
              "      <th>7</th>\n",
              "      <td>think calling captiva india suicide given capt...</td>\n",
              "      <td>2</td>\n",
              "    </tr>\n",
              "    <tr>\n",
              "      <th>8</th>\n",
              "      <td>mg woo indian gun blazing check video http you...</td>\n",
              "      <td>1</td>\n",
              "    </tr>\n",
              "    <tr>\n",
              "      <th>9</th>\n",
              "      <td>rovingeye mg woo indian gun blazing btw idea m...</td>\n",
              "      <td>2</td>\n",
              "    </tr>\n",
              "  </tbody>\n",
              "</table>\n",
              "</div>"
            ],
            "text/plain": [
              "                                             Reviews  Topic\n",
              "0  blackwasp thanks automobile encyclopedia sendi...      3\n",
              "1  happening name car day first harrier hector ha...      4\n",
              "2  blackwasp thanks automobile encyclopedia sendi...      1\n",
              "3  quickly googled hector baojun chevy captiva tr...      3\n",
              "4  rovingeye quickly googled hector baojun chevy ...      3\n",
              "5  capitva indeed rebadged baojun wuling similar ...      2\n",
              "6  vipul singh capitva indeed rebadged baojun wul...      2\n",
              "7  think calling captiva india suicide given capt...      2\n",
              "8  mg woo indian gun blazing check video http you...      1\n",
              "9  rovingeye mg woo indian gun blazing btw idea m...      2"
            ]
          },
          "metadata": {
            "tags": []
          },
          "execution_count": 36
        }
      ]
    },
    {
      "cell_type": "code",
      "metadata": {
        "id": "sDIWM6azAjXT",
        "colab_type": "code",
        "colab": {}
      },
      "source": [
        "df.to_csv('all_file.csv') "
      ],
      "execution_count": 0,
      "outputs": []
    },
    {
      "cell_type": "markdown",
      "metadata": {
        "id": "f6d78eaifDRS",
        "colab_type": "text"
      },
      "source": [
        "# Selecting only Topic 1 Reviews for Further Analysis"
      ]
    },
    {
      "cell_type": "code",
      "metadata": {
        "id": "zdjeplPYezTc",
        "colab_type": "code",
        "colab": {}
      },
      "source": [
        "df_Topic_1 = df[df.Topic == 1]"
      ],
      "execution_count": 0,
      "outputs": []
    },
    {
      "cell_type": "code",
      "metadata": {
        "id": "EDjKw6LkcEiz",
        "colab_type": "code",
        "outputId": "18b13b98-cc6f-4878-b989-fcef1ddbceb5",
        "colab": {
          "base_uri": "https://localhost:8080/",
          "height": 204
        }
      },
      "source": [
        "df_Topic_1.head()"
      ],
      "execution_count": 0,
      "outputs": [
        {
          "output_type": "execute_result",
          "data": {
            "text/html": [
              "<div>\n",
              "<style scoped>\n",
              "    .dataframe tbody tr th:only-of-type {\n",
              "        vertical-align: middle;\n",
              "    }\n",
              "\n",
              "    .dataframe tbody tr th {\n",
              "        vertical-align: top;\n",
              "    }\n",
              "\n",
              "    .dataframe thead th {\n",
              "        text-align: right;\n",
              "    }\n",
              "</style>\n",
              "<table border=\"1\" class=\"dataframe\">\n",
              "  <thead>\n",
              "    <tr style=\"text-align: right;\">\n",
              "      <th></th>\n",
              "      <th>Reviews</th>\n",
              "      <th>Topic</th>\n",
              "    </tr>\n",
              "  </thead>\n",
              "  <tbody>\n",
              "    <tr>\n",
              "      <th>2</th>\n",
              "      <td>blackwasp thanks automobile encyclopedia sendi...</td>\n",
              "      <td>1</td>\n",
              "    </tr>\n",
              "    <tr>\n",
              "      <th>8</th>\n",
              "      <td>mg woo indian gun blazing check video http you...</td>\n",
              "      <td>1</td>\n",
              "    </tr>\n",
              "    <tr>\n",
              "      <th>10</th>\n",
              "      <td>pretty neat promotion aired mgi liked showing ...</td>\n",
              "      <td>1</td>\n",
              "    </tr>\n",
              "    <tr>\n",
              "      <th>15</th>\n",
              "      <td>spotted hector bannerghatta road yesterday</td>\n",
              "      <td>1</td>\n",
              "    </tr>\n",
              "    <tr>\n",
              "      <th>16</th>\n",
              "      <td>mg hector available subscription myles source ...</td>\n",
              "      <td>1</td>\n",
              "    </tr>\n",
              "  </tbody>\n",
              "</table>\n",
              "</div>"
            ],
            "text/plain": [
              "                                              Reviews  Topic\n",
              "2   blackwasp thanks automobile encyclopedia sendi...      1\n",
              "8   mg woo indian gun blazing check video http you...      1\n",
              "10  pretty neat promotion aired mgi liked showing ...      1\n",
              "15         spotted hector bannerghatta road yesterday      1\n",
              "16  mg hector available subscription myles source ...      1"
            ]
          },
          "metadata": {
            "tags": []
          },
          "execution_count": 38
        }
      ]
    },
    {
      "cell_type": "code",
      "metadata": {
        "id": "f9WmPw78mqWU",
        "colab_type": "code",
        "outputId": "774e4930-426c-4552-fb42-d380eddbf1e2",
        "colab": {
          "base_uri": "https://localhost:8080/",
          "height": 34
        }
      },
      "source": [
        "df_Topic_1.shape"
      ],
      "execution_count": 0,
      "outputs": [
        {
          "output_type": "execute_result",
          "data": {
            "text/plain": [
              "(286, 2)"
            ]
          },
          "metadata": {
            "tags": []
          },
          "execution_count": 39
        }
      ]
    },
    {
      "cell_type": "markdown",
      "metadata": {
        "id": "ZqjGiwdlCxvb",
        "colab_type": "text"
      },
      "source": [
        "# Dwnloading the Reviews for Topic1 for further Sentiment Analysis"
      ]
    },
    {
      "cell_type": "code",
      "metadata": {
        "id": "wJKA-ns8sPPZ",
        "colab_type": "code",
        "colab": {}
      },
      "source": [
        "df_Topic_1.to_csv('file_new1.csv') "
      ],
      "execution_count": 0,
      "outputs": []
    },
    {
      "cell_type": "markdown",
      "metadata": {
        "id": "HYlSbhuhjWiD",
        "colab_type": "text"
      },
      "source": [
        "# Sentiment Analysis for Topic 1"
      ]
    },
    {
      "cell_type": "code",
      "metadata": {
        "id": "tjBRhyjpuph0",
        "colab_type": "code",
        "colab": {}
      },
      "source": [
        "data_1 = pd.read_csv(\"/gdrive/My Drive/file1.csv\")"
      ],
      "execution_count": 0,
      "outputs": []
    },
    {
      "cell_type": "code",
      "metadata": {
        "id": "bHp9xeWLu6PY",
        "colab_type": "code",
        "outputId": "0559dd5c-a4f3-485f-82b5-97f3cd7c7c2a",
        "colab": {
          "base_uri": "https://localhost:8080/",
          "height": 34
        }
      },
      "source": [
        "data_1.shape"
      ],
      "execution_count": 0,
      "outputs": [
        {
          "output_type": "execute_result",
          "data": {
            "text/plain": [
              "(498, 2)"
            ]
          },
          "metadata": {
            "tags": []
          },
          "execution_count": 105
        }
      ]
    },
    {
      "cell_type": "code",
      "metadata": {
        "id": "XJiDwiDtu8U1",
        "colab_type": "code",
        "outputId": "1ee1c8bd-cfea-44c5-8d87-f49defa25d62",
        "colab": {
          "base_uri": "https://localhost:8080/",
          "height": 204
        }
      },
      "source": [
        "data_1.head()"
      ],
      "execution_count": 0,
      "outputs": [
        {
          "output_type": "execute_result",
          "data": {
            "text/html": [
              "<div>\n",
              "<style scoped>\n",
              "    .dataframe tbody tr th:only-of-type {\n",
              "        vertical-align: middle;\n",
              "    }\n",
              "\n",
              "    .dataframe tbody tr th {\n",
              "        vertical-align: top;\n",
              "    }\n",
              "\n",
              "    .dataframe thead th {\n",
              "        text-align: right;\n",
              "    }\n",
              "</style>\n",
              "<table border=\"1\" class=\"dataframe\">\n",
              "  <thead>\n",
              "    <tr style=\"text-align: right;\">\n",
              "      <th></th>\n",
              "      <th>Reviews</th>\n",
              "      <th>Topic</th>\n",
              "    </tr>\n",
              "  </thead>\n",
              "  <tbody>\n",
              "    <tr>\n",
              "      <th>0</th>\n",
              "      <td>hope going detail guy forgot fact hector gonna...</td>\n",
              "      <td>0</td>\n",
              "    </tr>\n",
              "    <tr>\n",
              "      <th>1</th>\n",
              "      <td>saisw seems like huge rear overhang like altur...</td>\n",
              "      <td>0</td>\n",
              "    </tr>\n",
              "    <tr>\n",
              "      <th>2</th>\n",
              "      <td>saisw mean seriously sound awkward conversatio...</td>\n",
              "      <td>0</td>\n",
              "    </tr>\n",
              "    <tr>\n",
              "      <th>3</th>\n",
              "      <td>article place hector tucson crv rival well cle...</td>\n",
              "      <td>0</td>\n",
              "    </tr>\n",
              "    <tr>\n",
              "      <th>4</th>\n",
              "      <td>vigneshkumar mg debut hector decent hit aspira...</td>\n",
              "      <td>0</td>\n",
              "    </tr>\n",
              "  </tbody>\n",
              "</table>\n",
              "</div>"
            ],
            "text/plain": [
              "                                             Reviews  Topic\n",
              "0  hope going detail guy forgot fact hector gonna...      0\n",
              "1  saisw seems like huge rear overhang like altur...      0\n",
              "2  saisw mean seriously sound awkward conversatio...      0\n",
              "3  article place hector tucson crv rival well cle...      0\n",
              "4  vigneshkumar mg debut hector decent hit aspira...      0"
            ]
          },
          "metadata": {
            "tags": []
          },
          "execution_count": 107
        }
      ]
    },
    {
      "cell_type": "code",
      "metadata": {
        "id": "73BMVoT-u_fc",
        "colab_type": "code",
        "colab": {}
      },
      "source": [
        "corpus = []\n",
        "for i in range(0, 498):\n",
        "    #Remove punctuations\n",
        "    text = re.sub('[^a-zA-Z]', ' ', data_1['Reviews'][i])\n",
        "    \n",
        "    #Convert to lowercase\n",
        "    text = text.lower()\n",
        "    \n",
        "    #remove tags\n",
        "    text=re.sub(\"&lt;/?.*?&gt;\",\" &lt;&gt; \",text)\n",
        "    \n",
        "    # remove special characters and digits\n",
        "    text=re.sub(\"(\\\\d|\\\\W)+\",\" \",text)\n",
        "    \n",
        "    ##Convert to list from string\n",
        "    text = text.split()\n",
        "    \n",
        "    ##Stemming\n",
        "    ps=PorterStemmer()\n",
        "    #Lemmatisation\n",
        "    lem = WordNetLemmatizer()\n",
        "    text = [word for word in text if not word in  \n",
        "            stop_words] \n",
        "    text = \" \".join(text)\n",
        "    corpus.append(text)"
      ],
      "execution_count": 0,
      "outputs": []
    },
    {
      "cell_type": "markdown",
      "metadata": {
        "id": "_1V7mmgQDFJT",
        "colab_type": "text"
      },
      "source": [
        "# Bag of Words"
      ]
    },
    {
      "cell_type": "code",
      "metadata": {
        "id": "BpuwViQYvWeq",
        "colab_type": "code",
        "colab": {}
      },
      "source": [
        "bagofwords = []\n",
        "for i in range (0,498):\n",
        "  words =corpus[i].split()\n",
        "  bagofwords.append(words)"
      ],
      "execution_count": 0,
      "outputs": []
    },
    {
      "cell_type": "code",
      "metadata": {
        "id": "gHKuzMjavljQ",
        "colab_type": "code",
        "outputId": "a9687caa-fac7-49c4-f73a-8f7bfd0432b6",
        "colab": {
          "base_uri": "https://localhost:8080/",
          "height": 54
        }
      },
      "source": [
        "#printing bag of word of 100th item in the list\n",
        "print(bagofwords[100])"
      ],
      "execution_count": 0,
      "outputs": [
        {
          "output_type": "stream",
          "text": [
            "['apparently', 'mg', 'rally', 'event', 'gurgaon', 'today', 'achieve', 'highest', 'mileage', 'duration', 'rally', 'sa', 'different', 'dealership', 'going', 'participate', 'seems', 'interesting', 'move', 'auto', 'company', 'alleviate', 'customer', 'fear', 'low', 'mileage', 'anyone', 'done', 'sa', 'send', 'photo', 'mid', 'mileage', 'achieves', 'driving', 'style', 'followed', 'achieve', 'managed', 'dealer', 'reduce', 'mg', 'secure', 'insurance', 'match', 'tata', 'aig', 'k', 'nearly', 'k', 'reduction', 'cost', 'mg', 'secure', 'quoted', 'k', 'sharp', 'petrol', 'dct', 'said', 'hey', 'remove', 'handling', 'charge', 'end', 'raise', 'hell', 'come', 'know', 'day', 'dealer', 'say', 'come', 'dealership', 'sunday', 'pdi', 'anyone', 'know', 'vin', 'number', 'translates', 'month', 'manufacturing', 'case', 'hector']\n"
          ],
          "name": "stdout"
        }
      ]
    },
    {
      "cell_type": "code",
      "metadata": {
        "id": "n9QSs0qHvpXB",
        "colab_type": "code",
        "outputId": "648295fa-9ed0-4356-893d-514931c6198c",
        "colab": {
          "base_uri": "https://localhost:8080/",
          "height": 425
        }
      },
      "source": [
        "import itertools\n",
        "import collections\n",
        "all_words = list(itertools.chain(*bagofwords))\n",
        "print(all_words[0:10])\n",
        "print()\n",
        "print('Most commonly occuring words and frequency\\n')\n",
        "word_freq = collections.Counter(all_words)\n",
        "word_freq.most_common(20)"
      ],
      "execution_count": 0,
      "outputs": [
        {
          "output_type": "stream",
          "text": [
            "['hope', 'going', 'detail', 'guy', 'forgot', 'fact', 'hector', 'gonna', 'running', 'three']\n",
            "\n",
            "Most commonly occuring words and frequency\n",
            "\n"
          ],
          "name": "stdout"
        },
        {
          "output_type": "execute_result",
          "data": {
            "text/plain": [
              "[('hector', 580),\n",
              " ('mg', 374),\n",
              " ('diesel', 334),\n",
              " ('petrol', 310),\n",
              " ('seltos', 299),\n",
              " ('drive', 256),\n",
              " ('dct', 226),\n",
              " ('good', 225),\n",
              " ('well', 197),\n",
              " ('price', 197),\n",
              " ('harrier', 179),\n",
              " ('engine', 174),\n",
              " ('time', 174),\n",
              " ('kmpl', 173),\n",
              " ('even', 160),\n",
              " ('vehicle', 157),\n",
              " ('feature', 148),\n",
              " ('variant', 148),\n",
              " ('road', 146),\n",
              " ('better', 146)]"
            ]
          },
          "metadata": {
            "tags": []
          },
          "execution_count": 112
        }
      ]
    },
    {
      "cell_type": "markdown",
      "metadata": {
        "id": "pi5Gu37nDNqm",
        "colab_type": "text"
      },
      "source": [
        "# Sentiment Analysis for Topic 1"
      ]
    },
    {
      "cell_type": "code",
      "metadata": {
        "id": "WjZObyJHvvMr",
        "colab_type": "code",
        "outputId": "8dc1469d-940c-4bbb-a534-7b87ef3450e3",
        "colab": {
          "base_uri": "https://localhost:8080/",
          "height": 71
        }
      },
      "source": [
        "from textblob import TextBlob\n",
        "sentiment_text=[TextBlob(review) for review in corpus]\n",
        "print(sentiment_text[0].polarity)\n",
        "print(sentiment_text[0])"
      ],
      "execution_count": 0,
      "outputs": [
        {
          "output_type": "stream",
          "text": [
            "-0.0763888888888889\n",
            "hope going detail guy forgot fact hector gonna running three honda civics spoon engine top came harry sm ordered three turbos motec system exhaust sorry hold back mod infraction please sure camouflage find little wheeled need bigger rim hate fact poor road infrastructure make manufacturer increase rubber decrease wheel size model ensure incomplete look\n"
          ],
          "name": "stdout"
        }
      ]
    },
    {
      "cell_type": "markdown",
      "metadata": {
        "id": "ktytzJ1JG0Md",
        "colab_type": "text"
      },
      "source": [
        "# Attaching Sentiment Score and Polarity in a Data frame"
      ]
    },
    {
      "cell_type": "code",
      "metadata": {
        "id": "UOrztrsMv0_x",
        "colab_type": "code",
        "outputId": "2851aff5-f968-44c1-910e-696127efe626",
        "colab": {
          "base_uri": "https://localhost:8080/",
          "height": 419
        }
      },
      "source": [
        "sentiments = [[review.sentiment.polarity,str(review)] for review in sentiment_text]\n",
        "sentiment_df = pd.DataFrame(sentiments, columns=['polarity','review'])\n",
        "sentiment_df.sort_values(by='polarity',ascending=False)"
      ],
      "execution_count": 0,
      "outputs": [
        {
          "output_type": "execute_result",
          "data": {
            "text/html": [
              "<div>\n",
              "<style scoped>\n",
              "    .dataframe tbody tr th:only-of-type {\n",
              "        vertical-align: middle;\n",
              "    }\n",
              "\n",
              "    .dataframe tbody tr th {\n",
              "        vertical-align: top;\n",
              "    }\n",
              "\n",
              "    .dataframe thead th {\n",
              "        text-align: right;\n",
              "    }\n",
              "</style>\n",
              "<table border=\"1\" class=\"dataframe\">\n",
              "  <thead>\n",
              "    <tr style=\"text-align: right;\">\n",
              "      <th></th>\n",
              "      <th>polarity</th>\n",
              "      <th>review</th>\n",
              "    </tr>\n",
              "  </thead>\n",
              "  <tbody>\n",
              "    <tr>\n",
              "      <th>160</th>\n",
              "      <td>0.700000</td>\n",
              "      <td>went mg test drive time rohini showroom delhi ...</td>\n",
              "    </tr>\n",
              "    <tr>\n",
              "      <th>187</th>\n",
              "      <td>0.650000</td>\n",
              "      <td>gent announced price repeatedly mentioned stri...</td>\n",
              "    </tr>\n",
              "    <tr>\n",
              "      <th>286</th>\n",
              "      <td>0.600000</td>\n",
              "      <td>vsrivatsa attachment good year tire l given un...</td>\n",
              "    </tr>\n",
              "    <tr>\n",
              "      <th>355</th>\n",
              "      <td>0.600000</td>\n",
              "      <td>eagerly waiting petrol dct review drove le lik...</td>\n",
              "    </tr>\n",
              "    <tr>\n",
              "      <th>287</th>\n",
              "      <td>0.566667</td>\n",
              "      <td>ajmat given understand top end variant come co...</td>\n",
              "    </tr>\n",
              "    <tr>\n",
              "      <th>...</th>\n",
              "      <td>...</td>\n",
              "      <td>...</td>\n",
              "    </tr>\n",
              "    <tr>\n",
              "      <th>453</th>\n",
              "      <td>-0.366667</td>\n",
              "      <td>sharninder seltos hector guy bought sorry bad ...</td>\n",
              "    </tr>\n",
              "    <tr>\n",
              "      <th>74</th>\n",
              "      <td>-0.366667</td>\n",
              "      <td>sharninder seltos hector guy bought sorry bad ...</td>\n",
              "    </tr>\n",
              "    <tr>\n",
              "      <th>352</th>\n",
              "      <td>-0.393333</td>\n",
              "      <td>sreejinair dont go paid review anyone doesnt m...</td>\n",
              "    </tr>\n",
              "    <tr>\n",
              "      <th>65</th>\n",
              "      <td>-0.500000</td>\n",
              "      <td>sreejinair bought used yesterday sedan got tot...</td>\n",
              "    </tr>\n",
              "    <tr>\n",
              "      <th>444</th>\n",
              "      <td>-0.500000</td>\n",
              "      <td>sreejinair bought used yesterday sedan got tot...</td>\n",
              "    </tr>\n",
              "  </tbody>\n",
              "</table>\n",
              "<p>498 rows × 2 columns</p>\n",
              "</div>"
            ],
            "text/plain": [
              "     polarity                                             review\n",
              "160  0.700000  went mg test drive time rohini showroom delhi ...\n",
              "187  0.650000  gent announced price repeatedly mentioned stri...\n",
              "286  0.600000  vsrivatsa attachment good year tire l given un...\n",
              "355  0.600000  eagerly waiting petrol dct review drove le lik...\n",
              "287  0.566667  ajmat given understand top end variant come co...\n",
              "..        ...                                                ...\n",
              "453 -0.366667  sharninder seltos hector guy bought sorry bad ...\n",
              "74  -0.366667  sharninder seltos hector guy bought sorry bad ...\n",
              "352 -0.393333  sreejinair dont go paid review anyone doesnt m...\n",
              "65  -0.500000  sreejinair bought used yesterday sedan got tot...\n",
              "444 -0.500000  sreejinair bought used yesterday sedan got tot...\n",
              "\n",
              "[498 rows x 2 columns]"
            ]
          },
          "metadata": {
            "tags": []
          },
          "execution_count": 114
        }
      ]
    },
    {
      "cell_type": "markdown",
      "metadata": {
        "id": "WaahNTLgG8Ek",
        "colab_type": "text"
      },
      "source": [
        "# Sentiment Distribution for Topic 1"
      ]
    },
    {
      "cell_type": "code",
      "metadata": {
        "id": "_3k-TpSdwBCm",
        "colab_type": "code",
        "outputId": "44c6ff6b-6211-480d-8928-c5f724b00858",
        "colab": {
          "base_uri": "https://localhost:8080/",
          "height": 607
        }
      },
      "source": [
        "fig,ax = plt.subplots(figsize=(15,10))\n",
        "sentiment_df.hist(bins=[-1,-0.75,-0.5,-0.25,0.25,0.5,0.75,1], ax=ax, color='orange')\n",
        "plt.title('Sentiments Distribution on reviews')\n",
        "plt.show()"
      ],
      "execution_count": 0,
      "outputs": [
        {
          "output_type": "display_data",
          "data": {
            "image/png": "[encoded data removed]",
            "text/plain": [
              "<Figure size 1080x720 with 1 Axes>"
            ]
          },
          "metadata": {
            "tags": []
          }
        }
      ]
    },
    {
      "cell_type": "markdown",
      "metadata": {
        "id": "tgKsCnd8Dpoy",
        "colab_type": "text"
      },
      "source": [
        "# Downloading the sentiments file as CSV for further review"
      ]
    },
    {
      "cell_type": "code",
      "metadata": {
        "id": "N4PGH7S4wk6X",
        "colab_type": "code",
        "colab": {}
      },
      "source": [
        "sentiment_df.to_csv('sent_file1.csv') "
      ],
      "execution_count": 0,
      "outputs": []
    },
    {
      "cell_type": "code",
      "metadata": {
        "id": "Xn3UitBOjmBc",
        "colab_type": "code",
        "outputId": "b1596623-db9b-4b50-e199-0d36fa493dbe",
        "colab": {
          "base_uri": "https://localhost:8080/",
          "height": 122
        }
      },
      "source": [
        "from google.colab import drive\n",
        "drive.mount('/content/drive')"
      ],
      "execution_count": 0,
      "outputs": [
        {
          "output_type": "stream",
          "text": [
            "Go to this URL in a browser: https://accounts.google.com/o/oauth2/auth?client_id=947318989803-6bn6qk8qdgf4n4g3pfee6491hc0brc4i.apps.googleusercontent.com&redirect_uri=urn%3Aietf%3Awg%3Aoauth%3A2.0%3Aoob&scope=email%20https%3A%2F%2Fwww.googleapis.com%2Fauth%2Fdocs.test%20https%3A%2F%2Fwww.googleapis.com%2Fauth%2Fdrive%20https%3A%2F%2Fwww.googleapis.com%2Fauth%2Fdrive.photos.readonly%20https%3A%2F%2Fwww.googleapis.com%2Fauth%2Fpeopleapi.readonly&response_type=code\n",
            "\n",
            "Enter your authorization code:\n",
            "··········\n",
            "Mounted at /content/drive\n"
          ],
          "name": "stdout"
        }
      ]
    }
  ]
}