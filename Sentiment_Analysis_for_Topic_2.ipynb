{
  "nbformat": 4,
  "nbformat_minor": 0,
  "metadata": {
    "colab": {
      "name": "Sentiment Analysis for Topic 2.ipynb",
      "provenance": [],
      "include_colab_link": true
    },
    "kernelspec": {
      "name": "python3",
      "display_name": "Python 3"
    }
  },
  "cells": [
    {
      "cell_type": "markdown",
      "metadata": {
        "id": "view-in-github",
        "colab_type": "text"
      },
      "source": [
        "<a href=\"https://colab.research.google.com/github/sudeepmathew/Voc-Analysis/blob/master/Sentiment_Analysis_for_Topic_2.ipynb\" target=\"_parent\"><img src=\"https://colab.research.google.com/assets/colab-badge.svg\" alt=\"Open In Colab\"/></a>"
      ]
    },
    {
      "cell_type": "markdown",
      "metadata": {
        "id": "NydODOlKHVhI",
        "colab_type": "text"
      },
      "source": [
        "# Getting Data"
      ]
    },
    {
      "cell_type": "code",
      "metadata": {
        "id": "qTNhOup8nRLS",
        "colab_type": "code",
        "outputId": "29b620b7-d676-44c7-e028-83193fa4fb0a",
        "colab": {
          "base_uri": "https://localhost:8080/",
          "height": 122
        }
      },
      "source": [
        "from google.colab import drive\n",
        "drive.mount('/content/drive')"
      ],
      "execution_count": 0,
      "outputs": [
        {
          "output_type": "stream",
          "text": [
            "Go to this URL in a browser: https://accounts.google.com/o/oauth2/auth?client_id=947318989803-6bn6qk8qdgf4n4g3pfee6491hc0brc4i.apps.googleusercontent.com&redirect_uri=urn%3Aietf%3Awg%3Aoauth%3A2.0%3Aoob&scope=email%20https%3A%2F%2Fwww.googleapis.com%2Fauth%2Fdocs.test%20https%3A%2F%2Fwww.googleapis.com%2Fauth%2Fdrive%20https%3A%2F%2Fwww.googleapis.com%2Fauth%2Fdrive.photos.readonly%20https%3A%2F%2Fwww.googleapis.com%2Fauth%2Fpeopleapi.readonly&response_type=code\n",
            "\n",
            "Enter your authorization code:\n",
            "··········\n",
            "Mounted at /content/drive\n"
          ],
          "name": "stdout"
        }
      ]
    },
    {
      "cell_type": "markdown",
      "metadata": {
        "id": "ocotFfxGHaxc",
        "colab_type": "text"
      },
      "source": [
        "# Importing Packages"
      ]
    },
    {
      "cell_type": "code",
      "metadata": {
        "id": "myvbi3_SnpSu",
        "colab_type": "code",
        "outputId": "d83e1a95-b707-4a69-c0bf-fb6d6d6460ed",
        "colab": {
          "base_uri": "https://localhost:8080/",
          "height": 153
        }
      },
      "source": [
        "import pandas as pd\n",
        "import nltk\n",
        "from nltk import FreqDist\n",
        "import spacy\n",
        "import matplotlib.pyplot as plt\n",
        "import seaborn as sns\n",
        "%matplotlib inline\n",
        "nltk.download('wordnet') \n",
        "from nltk.stem.porter import PorterStemmer\n",
        "from nltk.stem.wordnet import WordNetLemmatizer\n",
        "lem = WordNetLemmatizer()\n",
        "stem = PorterStemmer()\n",
        "word = \"inversely\"\n",
        "print(\"stemming:\",stem.stem(word))\n",
        "print(\"lemmatization:\", lem.lemmatize(word, \"v\"))\n",
        "\n",
        "# Libraries for text preprocessing\n",
        "import re\n",
        "import nltk\n",
        "nltk.download('stopwords')\n",
        "from nltk.corpus import stopwords\n",
        "from nltk.stem.porter import PorterStemmer\n",
        "from nltk.tokenize import RegexpTokenizer\n",
        "nltk.download('wordnet') \n",
        "from nltk.stem.wordnet import WordNetLemmatizer\n",
        "#import nessassary packages\n",
        "import numpy as np\n",
        "import pandas as pd\n",
        "import matplotlib.pyplot as plt \n",
        "import seaborn as sns\n",
        "import nltk\n",
        "from nltk import FreqDist\n",
        "import spacy"
      ],
      "execution_count": 0,
      "outputs": [
        {
          "output_type": "stream",
          "text": [
            "[nltk_data] Downloading package wordnet to /root/nltk_data...\n",
            "[nltk_data]   Unzipping corpora/wordnet.zip.\n",
            "stemming: invers\n",
            "lemmatization: inversely\n",
            "[nltk_data] Downloading package stopwords to /root/nltk_data...\n",
            "[nltk_data]   Unzipping corpora/stopwords.zip.\n",
            "[nltk_data] Downloading package wordnet to /root/nltk_data...\n",
            "[nltk_data]   Package wordnet is already up-to-date!\n"
          ],
          "name": "stdout"
        }
      ]
    },
    {
      "cell_type": "code",
      "metadata": {
        "id": "gBFc1Weqn8s1",
        "colab_type": "code",
        "colab": {}
      },
      "source": [
        "data_2 = pd.read_csv(\"/content/drive/My Drive/file_new1.csv\")"
      ],
      "execution_count": 0,
      "outputs": []
    },
    {
      "cell_type": "code",
      "metadata": {
        "id": "f2fyJtvAoAf-",
        "colab_type": "code",
        "outputId": "2f40d6e1-983d-4304-f213-1796c640f97e",
        "colab": {
          "base_uri": "https://localhost:8080/",
          "height": 34
        }
      },
      "source": [
        "data_2.shape"
      ],
      "execution_count": 0,
      "outputs": [
        {
          "output_type": "execute_result",
          "data": {
            "text/plain": [
              "(286, 3)"
            ]
          },
          "metadata": {
            "tags": []
          },
          "execution_count": 23
        }
      ]
    },
    {
      "cell_type": "code",
      "metadata": {
        "id": "UmtkKT6TomKN",
        "colab_type": "code",
        "outputId": "ac099687-2107-4ac1-f077-b8706354a352",
        "colab": {
          "base_uri": "https://localhost:8080/",
          "height": 204
        }
      },
      "source": [
        "data_2.head()"
      ],
      "execution_count": 0,
      "outputs": [
        {
          "output_type": "execute_result",
          "data": {
            "text/html": [
              "<div>\n",
              "<style scoped>\n",
              "    .dataframe tbody tr th:only-of-type {\n",
              "        vertical-align: middle;\n",
              "    }\n",
              "\n",
              "    .dataframe tbody tr th {\n",
              "        vertical-align: top;\n",
              "    }\n",
              "\n",
              "    .dataframe thead th {\n",
              "        text-align: right;\n",
              "    }\n",
              "</style>\n",
              "<table border=\"1\" class=\"dataframe\">\n",
              "  <thead>\n",
              "    <tr style=\"text-align: right;\">\n",
              "      <th></th>\n",
              "      <th>Unnamed: 0</th>\n",
              "      <th>Reviews</th>\n",
              "      <th>Topic</th>\n",
              "    </tr>\n",
              "  </thead>\n",
              "  <tbody>\n",
              "    <tr>\n",
              "      <th>0</th>\n",
              "      <td>2</td>\n",
              "      <td>blackwasp thanks automobile encyclopedia sendi...</td>\n",
              "      <td>1</td>\n",
              "    </tr>\n",
              "    <tr>\n",
              "      <th>1</th>\n",
              "      <td>8</td>\n",
              "      <td>mg woo indian gun blazing check video http you...</td>\n",
              "      <td>1</td>\n",
              "    </tr>\n",
              "    <tr>\n",
              "      <th>2</th>\n",
              "      <td>10</td>\n",
              "      <td>pretty neat promotion aired mgi liked showing ...</td>\n",
              "      <td>1</td>\n",
              "    </tr>\n",
              "    <tr>\n",
              "      <th>3</th>\n",
              "      <td>15</td>\n",
              "      <td>spotted hector bannerghatta road yesterday</td>\n",
              "      <td>1</td>\n",
              "    </tr>\n",
              "    <tr>\n",
              "      <th>4</th>\n",
              "      <td>16</td>\n",
              "      <td>mg hector available subscription myles source ...</td>\n",
              "      <td>1</td>\n",
              "    </tr>\n",
              "  </tbody>\n",
              "</table>\n",
              "</div>"
            ],
            "text/plain": [
              "   Unnamed: 0                                            Reviews  Topic\n",
              "0           2  blackwasp thanks automobile encyclopedia sendi...      1\n",
              "1           8  mg woo indian gun blazing check video http you...      1\n",
              "2          10  pretty neat promotion aired mgi liked showing ...      1\n",
              "3          15         spotted hector bannerghatta road yesterday      1\n",
              "4          16  mg hector available subscription myles source ...      1"
            ]
          },
          "metadata": {
            "tags": []
          },
          "execution_count": 24
        }
      ]
    },
    {
      "cell_type": "code",
      "metadata": {
        "id": "DCvk9RfJoQuZ",
        "colab_type": "code",
        "colab": {}
      },
      "source": [
        "##Creating a list of stop words and adding custom stopwords\n",
        "stop_words = set(stopwords.words(\"english\"))\n",
        "##Creating a list of custom stopwords\n",
        "new_words = [\"using\", \"show\", \"result\", \"large\", \"also\", \"iv\", \"one\", \"two\", \"get\",\"like\",\"think\",\"new\",\"much\",\n",
        "             \"https\", \"previously\", \"shown\",\"quote\",\"originally\",\"posted\",\"post\",\"owner\",\"youtube\",\"www\",\"http\",\"would\"]\n",
        "stop_words = stop_words.union(new_words)"
      ],
      "execution_count": 0,
      "outputs": []
    },
    {
      "cell_type": "markdown",
      "metadata": {
        "id": "sj5rakgAIDAD",
        "colab_type": "text"
      },
      "source": [
        "# Creating Corpus"
      ]
    },
    {
      "cell_type": "code",
      "metadata": {
        "id": "mXX5dzgHoVBB",
        "colab_type": "code",
        "colab": {}
      },
      "source": [
        "corpus = []\n",
        "for i in range(0, 286):\n",
        "    #Remove punctuations\n",
        "    text = re.sub('[^a-zA-Z]', ' ', data_2['Reviews'][i])\n",
        "    \n",
        "    #Convert to lowercase\n",
        "    #text = text.lower()\n",
        "    \n",
        "    #remove tags\n",
        "    #text=re.sub(\"&lt;/?.*?&gt;\",\" &lt;&gt; \",text)\n",
        "    \n",
        "    # remove special characters and digits\n",
        "    #text=re.sub(\"(\\\\d|\\\\W)+\",\" \",text)\n",
        "    \n",
        "    ##Convert to list from string\n",
        "    text = text.split()\n",
        "    \n",
        "    ##Stemming\n",
        "    #ps=PorterStemmer()\n",
        "    #Lemmatisation\n",
        "    #lem = WordNetLemmatizer()\n",
        "    text = [word for word in text if not word in  \n",
        "            stop_words] \n",
        "    text = \" \".join(text)\n",
        "    corpus.append(text)"
      ],
      "execution_count": 0,
      "outputs": []
    },
    {
      "cell_type": "markdown",
      "metadata": {
        "id": "ZtBoz_RaHwWV",
        "colab_type": "text"
      },
      "source": [
        "# Creating Bag of Words"
      ]
    },
    {
      "cell_type": "code",
      "metadata": {
        "id": "xof1UFhOowmF",
        "colab_type": "code",
        "colab": {}
      },
      "source": [
        "bagofwords = []\n",
        "for i in range (0,286):\n",
        "  words =corpus[i].split()\n",
        "  bagofwords.append(words)"
      ],
      "execution_count": 0,
      "outputs": []
    },
    {
      "cell_type": "code",
      "metadata": {
        "id": "fUNOtnTgozkp",
        "colab_type": "code",
        "outputId": "111fd399-47ff-4726-9b2b-b850a6aaf851",
        "colab": {
          "base_uri": "https://localhost:8080/",
          "height": 54
        }
      },
      "source": [
        "#printing bag of word of 100th item in the list\n",
        "print(bagofwords[100])"
      ],
      "execution_count": 0,
      "outputs": [
        {
          "output_type": "stream",
          "text": [
            "['word', 'sa', 'mg', 'safdarjung', 'probability', 'booking', 'slated', 'reopen', 'navratras', 'since', 'auspicious', 'period', 'people', 'make', 'purchase', 'heavy', 'demand', 'petrol', 'auto', 'followed', 'diesel', 'mt', 'hybrid', 'despatched', 'car', 'last', 'month', 'around', 'petrol', 'dct', 'delhi', 'folk', 'preferring', 'automatic', 'obvious', 'reason']\n"
          ],
          "name": "stdout"
        }
      ]
    },
    {
      "cell_type": "markdown",
      "metadata": {
        "id": "T8hfxQeiH6QZ",
        "colab_type": "text"
      },
      "source": [
        "# Sentiment Analysis for Topic # 2"
      ]
    },
    {
      "cell_type": "code",
      "metadata": {
        "id": "BB2Ujwcjp_2m",
        "colab_type": "code",
        "outputId": "acbdd119-9527-496f-daa0-e85c8b254436",
        "colab": {
          "base_uri": "https://localhost:8080/",
          "height": 71
        }
      },
      "source": [
        "from textblob import TextBlob\n",
        "sentiment_text=[TextBlob(review) for review in corpus]\n",
        "print(sentiment_text[0].polarity)\n",
        "print(sentiment_text[0])"
      ],
      "execution_count": 0,
      "outputs": [
        {
          "output_type": "stream",
          "text": [
            "0.008750000000000013\n",
            "blackwasp thanks automobile encyclopedia sending image heartfelt gratitude sharing enthusiast via team bhp page attachment seems huge rear overhang alturas thing hate car make look bus simply understand replace h v call vector mean seriously sound awkward conversation guy hey man bought guy great guy hector guy hector guy hector mg hector guy stare dude face second awkwardness pretend understand talking\n"
          ],
          "name": "stdout"
        }
      ]
    },
    {
      "cell_type": "code",
      "metadata": {
        "id": "Y9vrnGYNqOD2",
        "colab_type": "code",
        "outputId": "170ecbb3-f9b7-4ef9-cfff-6a13beb80a5e",
        "colab": {
          "base_uri": "https://localhost:8080/",
          "height": 419
        }
      },
      "source": [
        "sentiments = [[review.sentiment.polarity,str(review)] for review in sentiment_text]\n",
        "sentiment_df = pd.DataFrame(sentiments, columns=['polarity','review'])\n",
        "sentiment_df.sort_values(by='polarity',ascending=False)"
      ],
      "execution_count": 0,
      "outputs": [
        {
          "output_type": "execute_result",
          "data": {
            "text/html": [
              "<div>\n",
              "<style scoped>\n",
              "    .dataframe tbody tr th:only-of-type {\n",
              "        vertical-align: middle;\n",
              "    }\n",
              "\n",
              "    .dataframe tbody tr th {\n",
              "        vertical-align: top;\n",
              "    }\n",
              "\n",
              "    .dataframe thead th {\n",
              "        text-align: right;\n",
              "    }\n",
              "</style>\n",
              "<table border=\"1\" class=\"dataframe\">\n",
              "  <thead>\n",
              "    <tr style=\"text-align: right;\">\n",
              "      <th></th>\n",
              "      <th>polarity</th>\n",
              "      <th>review</th>\n",
              "    </tr>\n",
              "  </thead>\n",
              "  <tbody>\n",
              "    <tr>\n",
              "      <th>245</th>\n",
              "      <td>0.600000</td>\n",
              "      <td>saw flesh huge road presence great alternative...</td>\n",
              "    </tr>\n",
              "    <tr>\n",
              "      <th>73</th>\n",
              "      <td>0.600000</td>\n",
              "      <td>saw flesh huge road presence great alternative...</td>\n",
              "    </tr>\n",
              "    <tr>\n",
              "      <th>14</th>\n",
              "      <td>0.500000</td>\n",
              "      <td>thought came mind reading sure voice command s...</td>\n",
              "    </tr>\n",
              "    <tr>\n",
              "      <th>233</th>\n",
              "      <td>0.500000</td>\n",
              "      <td>started spotting fewof road delhi ncr glad wen...</td>\n",
              "    </tr>\n",
              "    <tr>\n",
              "      <th>61</th>\n",
              "      <td>0.500000</td>\n",
              "      <td>started spotting fewof road delhi ncr glad wen...</td>\n",
              "    </tr>\n",
              "    <tr>\n",
              "      <th>...</th>\n",
              "      <td>...</td>\n",
              "      <td>...</td>\n",
              "    </tr>\n",
              "    <tr>\n",
              "      <th>251</th>\n",
              "      <td>-0.277778</td>\n",
              "      <td>sebring leather coming steering opened found s...</td>\n",
              "    </tr>\n",
              "    <tr>\n",
              "      <th>203</th>\n",
              "      <td>-0.305556</td>\n",
              "      <td>wheelguy mg hector group powered tailgate fail...</td>\n",
              "    </tr>\n",
              "    <tr>\n",
              "      <th>176</th>\n",
              "      <td>-0.325000</td>\n",
              "      <td>afraid whether board front service center soon...</td>\n",
              "    </tr>\n",
              "    <tr>\n",
              "      <th>206</th>\n",
              "      <td>-0.400000</td>\n",
              "      <td>finally mg xuv way creating artificial shortag...</td>\n",
              "    </tr>\n",
              "    <tr>\n",
              "      <th>189</th>\n",
              "      <td>-0.600000</td>\n",
              "      <td>asish vk meanwhile kerala selling lakh profit ...</td>\n",
              "    </tr>\n",
              "  </tbody>\n",
              "</table>\n",
              "<p>286 rows × 2 columns</p>\n",
              "</div>"
            ],
            "text/plain": [
              "     polarity                                             review\n",
              "245  0.600000  saw flesh huge road presence great alternative...\n",
              "73   0.600000  saw flesh huge road presence great alternative...\n",
              "14   0.500000  thought came mind reading sure voice command s...\n",
              "233  0.500000  started spotting fewof road delhi ncr glad wen...\n",
              "61   0.500000  started spotting fewof road delhi ncr glad wen...\n",
              "..        ...                                                ...\n",
              "251 -0.277778  sebring leather coming steering opened found s...\n",
              "203 -0.305556  wheelguy mg hector group powered tailgate fail...\n",
              "176 -0.325000  afraid whether board front service center soon...\n",
              "206 -0.400000  finally mg xuv way creating artificial shortag...\n",
              "189 -0.600000  asish vk meanwhile kerala selling lakh profit ...\n",
              "\n",
              "[286 rows x 2 columns]"
            ]
          },
          "metadata": {
            "tags": []
          },
          "execution_count": 34
        }
      ]
    },
    {
      "cell_type": "markdown",
      "metadata": {
        "id": "Bhn0-h4fIMcJ",
        "colab_type": "text"
      },
      "source": [
        "# Sentiment Distrinbution for Topic # 2"
      ]
    },
    {
      "cell_type": "code",
      "metadata": {
        "id": "KGm3bxFRteoF",
        "colab_type": "code",
        "outputId": "0580a70e-4025-4480-84b8-2ae66e76b260",
        "colab": {
          "base_uri": "https://localhost:8080/",
          "height": 607
        }
      },
      "source": [
        "fig,ax = plt.subplots(figsize=(15,10))\n",
        "sentiment_df.hist(bins=[-1,-0.75,-0.5,-0.25,0.25,0.5,0.75,1], ax=ax, color='orange')\n",
        "plt.title('Sentiments Distribution on reviews')\n",
        "plt.show()"
      ],
      "execution_count": 0,
      "outputs": [
        {
          "output_type": "display_data",
          "data": {
            "image/png": "[encoded data removed]",
            "text/plain": [
              "<Figure size 1080x720 with 1 Axes>"
            ]
          },
          "metadata": {
            "tags": []
          }
        }
      ]
    },
    {
      "cell_type": "code",
      "metadata": {
        "id": "zbjZWfCntoj4",
        "colab_type": "code",
        "colab": {}
      },
      "source": [
        "sentiment_df.to_csv('sent_file1.csv') "
      ],
      "execution_count": 0,
      "outputs": []
    }
  ]
}